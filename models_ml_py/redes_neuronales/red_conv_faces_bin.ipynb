{
 "cells": [
  {
   "cell_type": "markdown",
   "id": "fe7d54b2",
   "metadata": {},
   "source": [
    "# Detecting faces:\n",
    "El siguiente notebook ejecuta un algoritmo el cual intenta identificar los rostros de algunas celebridades del dataset 'Labelled Faces in the Wild'."
   ]
  },
  {
   "cell_type": "code",
   "execution_count": 1,
   "id": "219b9bdf",
   "metadata": {},
   "outputs": [
    {
     "name": "stderr",
     "output_type": "stream",
     "text": [
      "2025-08-31 17:04:34.698006: I tensorflow/core/util/port.cc:153] oneDNN custom operations are on. You may see slightly different numerical results due to floating-point round-off errors from different computation orders. To turn them off, set the environment variable `TF_ENABLE_ONEDNN_OPTS=0`.\n",
      "2025-08-31 17:04:35.310680: E external/local_xla/xla/stream_executor/cuda/cuda_fft.cc:467] Unable to register cuFFT factory: Attempting to register factory for plugin cuFFT when one has already been registered\n",
      "WARNING: All log messages before absl::InitializeLog() is called are written to STDERR\n",
      "E0000 00:00:1756677875.572991    5058 cuda_dnn.cc:8579] Unable to register cuDNN factory: Attempting to register factory for plugin cuDNN when one has already been registered\n",
      "E0000 00:00:1756677875.628421    5058 cuda_blas.cc:1407] Unable to register cuBLAS factory: Attempting to register factory for plugin cuBLAS when one has already been registered\n",
      "W0000 00:00:1756677876.112870    5058 computation_placer.cc:177] computation placer already registered. Please check linkage and avoid linking the same target more than once.\n",
      "W0000 00:00:1756677876.113017    5058 computation_placer.cc:177] computation placer already registered. Please check linkage and avoid linking the same target more than once.\n",
      "W0000 00:00:1756677876.113019    5058 computation_placer.cc:177] computation placer already registered. Please check linkage and avoid linking the same target more than once.\n",
      "W0000 00:00:1756677876.113022    5058 computation_placer.cc:177] computation placer already registered. Please check linkage and avoid linking the same target more than once.\n",
      "2025-08-31 17:04:36.151143: I tensorflow/core/platform/cpu_feature_guard.cc:210] This TensorFlow binary is optimized to use available CPU instructions in performance-critical operations.\n",
      "To enable the following instructions: AVX2 AVX512F AVX512_VNNI FMA, in other operations, rebuild TensorFlow with the appropriate compiler flags.\n"
     ]
    }
   ],
   "source": [
    "# Funciones generales\n",
    "import os\n",
    "import pandas as pd\n",
    "import numpy as np\n",
    "import seaborn as sns\n",
    "import matplotlib.pyplot as plt\n",
    "\n",
    "# Biblioteca para entrenamiento y validación\n",
    "from sklearn.model_selection import train_test_split\n",
    "\n",
    "# Copia de archivos\n",
    "import shutil\n",
    "\n",
    "# Creación de CNN\n",
    "from tensorflow.keras.models import Sequential #type: ignore\n",
    "from tensorflow.keras.layers import Input, Conv2D, BatchNormalization, Dropout, Flatten, MaxPooling2D, Dense #type: ignore\n",
    "from tensorflow.keras.preprocessing.image import ImageDataGenerator, load_img, img_to_array, array_to_img #type: ignore\n",
    "from tensorflow.keras.callbacks import EarlyStopping, ReduceLROnPlateau #type: ignore"
   ]
  },
  {
   "cell_type": "markdown",
   "id": "1587aad3",
   "metadata": {},
   "source": [
    "## Extrayendo los datos de Kaggle"
   ]
  },
  {
   "cell_type": "code",
   "execution_count": 2,
   "id": "fe99703f",
   "metadata": {},
   "outputs": [
    {
     "name": "stdout",
     "output_type": "stream",
     "text": [
      "Warning: Looks like you're using an outdated `kagglehub` version (installed: 0.3.12), please consider upgrading to the latest version (0.3.13).\n"
     ]
    },
    {
     "data": {
      "text/html": [
       "<div>\n",
       "<style scoped>\n",
       "    .dataframe tbody tr th:only-of-type {\n",
       "        vertical-align: middle;\n",
       "    }\n",
       "\n",
       "    .dataframe tbody tr th {\n",
       "        vertical-align: top;\n",
       "    }\n",
       "\n",
       "    .dataframe thead th {\n",
       "        text-align: right;\n",
       "    }\n",
       "</style>\n",
       "<table border=\"1\" class=\"dataframe\">\n",
       "  <thead>\n",
       "    <tr style=\"text-align: right;\">\n",
       "      <th></th>\n",
       "      <th>name</th>\n",
       "      <th>images</th>\n",
       "    </tr>\n",
       "  </thead>\n",
       "  <tbody>\n",
       "    <tr>\n",
       "      <th>0</th>\n",
       "      <td>AJ_Cook</td>\n",
       "      <td>1</td>\n",
       "    </tr>\n",
       "    <tr>\n",
       "      <th>1</th>\n",
       "      <td>AJ_Lamas</td>\n",
       "      <td>1</td>\n",
       "    </tr>\n",
       "    <tr>\n",
       "      <th>2</th>\n",
       "      <td>Aaron_Eckhart</td>\n",
       "      <td>1</td>\n",
       "    </tr>\n",
       "    <tr>\n",
       "      <th>3</th>\n",
       "      <td>Aaron_Guiel</td>\n",
       "      <td>1</td>\n",
       "    </tr>\n",
       "    <tr>\n",
       "      <th>4</th>\n",
       "      <td>Aaron_Patterson</td>\n",
       "      <td>1</td>\n",
       "    </tr>\n",
       "  </tbody>\n",
       "</table>\n",
       "</div>"
      ],
      "text/plain": [
       "              name  images\n",
       "0          AJ_Cook       1\n",
       "1         AJ_Lamas       1\n",
       "2    Aaron_Eckhart       1\n",
       "3      Aaron_Guiel       1\n",
       "4  Aaron_Patterson       1"
      ]
     },
     "execution_count": 2,
     "metadata": {},
     "output_type": "execute_result"
    }
   ],
   "source": [
    "import kagglehub #type:ignore\n",
    "path_kaggle_dataset = kagglehub.dataset_download('jessicali9530/lfw-dataset')\n",
    "\n",
    "# Ruta al archivo CSV\n",
    "csv_path = os.path.join(path_kaggle_dataset, 'lfw_allnames.csv')\n",
    "df_faces_dataset = pd.read_csv(csv_path)\n",
    "df_faces_dataset.head()"
   ]
  },
  {
   "cell_type": "markdown",
   "id": "195f1a8c",
   "metadata": {},
   "source": [
    "## Creando las rutas de cada imagen"
   ]
  },
  {
   "cell_type": "code",
   "execution_count": 3,
   "id": "90cbfa45",
   "metadata": {},
   "outputs": [
    {
     "data": {
      "text/html": [
       "<div>\n",
       "<style scoped>\n",
       "    .dataframe tbody tr th:only-of-type {\n",
       "        vertical-align: middle;\n",
       "    }\n",
       "\n",
       "    .dataframe tbody tr th {\n",
       "        vertical-align: top;\n",
       "    }\n",
       "\n",
       "    .dataframe thead th {\n",
       "        text-align: right;\n",
       "    }\n",
       "</style>\n",
       "<table border=\"1\" class=\"dataframe\">\n",
       "  <thead>\n",
       "    <tr style=\"text-align: right;\">\n",
       "      <th></th>\n",
       "      <th>name</th>\n",
       "      <th>path_img</th>\n",
       "    </tr>\n",
       "  </thead>\n",
       "  <tbody>\n",
       "    <tr>\n",
       "      <th>0</th>\n",
       "      <td>AJ_Cook</td>\n",
       "      <td>AJ_Cook/AJ_Cook_0001.jpg</td>\n",
       "    </tr>\n",
       "    <tr>\n",
       "      <th>1</th>\n",
       "      <td>AJ_Lamas</td>\n",
       "      <td>AJ_Lamas/AJ_Lamas_0001.jpg</td>\n",
       "    </tr>\n",
       "    <tr>\n",
       "      <th>2</th>\n",
       "      <td>Aaron_Eckhart</td>\n",
       "      <td>Aaron_Eckhart/Aaron_Eckhart_0001.jpg</td>\n",
       "    </tr>\n",
       "    <tr>\n",
       "      <th>3</th>\n",
       "      <td>Aaron_Guiel</td>\n",
       "      <td>Aaron_Guiel/Aaron_Guiel_0001.jpg</td>\n",
       "    </tr>\n",
       "    <tr>\n",
       "      <th>4</th>\n",
       "      <td>Aaron_Patterson</td>\n",
       "      <td>Aaron_Patterson/Aaron_Patterson_0001.jpg</td>\n",
       "    </tr>\n",
       "  </tbody>\n",
       "</table>\n",
       "</div>"
      ],
      "text/plain": [
       "              name                                  path_img\n",
       "0          AJ_Cook                  AJ_Cook/AJ_Cook_0001.jpg\n",
       "1         AJ_Lamas                AJ_Lamas/AJ_Lamas_0001.jpg\n",
       "2    Aaron_Eckhart      Aaron_Eckhart/Aaron_Eckhart_0001.jpg\n",
       "3      Aaron_Guiel          Aaron_Guiel/Aaron_Guiel_0001.jpg\n",
       "4  Aaron_Patterson  Aaron_Patterson/Aaron_Patterson_0001.jpg"
      ]
     },
     "execution_count": 3,
     "metadata": {},
     "output_type": "execute_result"
    }
   ],
   "source": [
    "# repite cada fila de acuerdo a la cantidad de imagenes que almacena\n",
    "df_images_paths = df_faces_dataset.loc[df_faces_dataset.index.repeat(df_faces_dataset[\"images\"])]\n",
    "# suma acumulada de cada imagen que almacena\n",
    "df_images_paths[\"path_img\"] = df_images_paths.groupby(\"name\").cumcount() + 1\n",
    "# cantidad de imagen que alamcena de completa con 0 hasta 4 cifras\n",
    "df_images_paths[\"path_img\"] = df_images_paths.path_img.apply(lambda x: f\"{x:04}\")\n",
    "# formato de la ruta de cada imagen\n",
    "df_images_paths[\"path_img\"] = df_images_paths.name + \"/\" + df_images_paths.name + \"_\" + df_images_paths.path_img + \".jpg\"\n",
    "df_images_paths = df_images_paths.drop(\"images\", axis=1)\n",
    "df_images_paths.head()"
   ]
  },
  {
   "cell_type": "code",
   "execution_count": 4,
   "id": "79f48dad",
   "metadata": {},
   "outputs": [
    {
     "name": "stdout",
     "output_type": "stream",
     "text": [
      "        Height   Widths\n",
      "count  13233.0  13233.0\n",
      "mean     128.0    128.0\n",
      "std        0.0      0.0\n",
      "min      128.0    128.0\n",
      "25%      128.0    128.0\n",
      "50%      128.0    128.0\n",
      "75%      128.0    128.0\n",
      "max      128.0    128.0\n"
     ]
    }
   ],
   "source": [
    "# verificando la resolucion de las imágenes\n",
    "widths = []\n",
    "heights = []\n",
    "\n",
    "rutas = df_images_paths[\"path_img\"]\n",
    "for file in rutas:\n",
    "    # ruta de cada imagen en kaggle\n",
    "    path_img = os.path.join(path_kaggle_dataset, \"lfw-deepfunneled/lfw-deepfunneled\", str(file))\n",
    "    imagen = load_img(path_img, target_size=(128,128))\n",
    "    widths.append(imagen.width)\n",
    "    heights.append(imagen.height)\n",
    "\n",
    "dimensiones = pd.DataFrame({\"Height\": heights, \"Widths\": widths})\n",
    "print(dimensiones.describe())"
   ]
  },
  {
   "cell_type": "code",
   "execution_count": 5,
   "id": "a9654418",
   "metadata": {},
   "outputs": [
    {
     "name": "stdout",
     "output_type": "stream",
     "text": [
      "                name  count\n",
      "0      George_W_Bush    530\n",
      "1       Colin_Powell    236\n",
      "2         Tony_Blair    144\n",
      "3    Donald_Rumsfeld    121\n",
      "4  Gerhard_Schroeder    109\n",
      "5       Ariel_Sharon     77\n"
     ]
    },
    {
     "data": {
      "image/png": "[encoded data removed]",
      "text/plain": [
       "<Figure size 640x480 with 1 Axes>"
      ]
     },
     "metadata": {},
     "output_type": "display_data"
    }
   ],
   "source": [
    "# distribución de la cantidad imagenes por cada personaje\n",
    "names_top = df_images_paths.name.value_counts().sort_values(ascending=False).reset_index().iloc[:6,]\n",
    "print(names_top)\n",
    "sns.barplot(data=names_top, x=\"name\", y=\"count\")\n",
    "plt.xticks(rotation=45)\n",
    "plt.title(\"Personajes con mas presencia\", size=17)\n",
    "plt.show()"
   ]
  },
  {
   "cell_type": "markdown",
   "id": "54ff7177",
   "metadata": {},
   "source": [
    "Para este proyecto se tomará la predicción del personaje George W. Bush ya que cuenta con\n",
    "una mayor cantidad de imágenes"
   ]
  },
  {
   "cell_type": "code",
   "execution_count": 6,
   "id": "69f800ca",
   "metadata": {},
   "outputs": [],
   "source": [
    "# Separando los datos que pertenecen al personaje seleccionado\n",
    "bush_data = df_images_paths.loc[df_images_paths[\"name\"]==\"George_W_Bush\"]\n",
    "bush_data.reset_index(drop=True, inplace=True)"
   ]
  },
  {
   "cell_type": "code",
   "execution_count": 7,
   "id": "f29ca789",
   "metadata": {},
   "outputs": [],
   "source": [
    "# Seleccionamos de las imágenes que no pertenecen al personaje seleccionado\n",
    "# una cantidad igual de imágenes\n",
    "no_bush_data = df_images_paths.loc[df_images_paths[\"name\"]!=\"George_W_Bush\"]\n",
    "no_bush_data.reset_index(drop=True, inplace=True)\n",
    "no_bush_data.loc[:, \"name\"] = \"no_George_W_Bush\""
   ]
  },
  {
   "cell_type": "code",
   "execution_count": 8,
   "id": "97357c02",
   "metadata": {},
   "outputs": [
    {
     "data": {
      "text/plain": [
       "name\n",
       "no_George_W_Bush    12703\n",
       "George_W_Bush         530\n",
       "Name: count, dtype: int64"
      ]
     },
     "execution_count": 8,
     "metadata": {},
     "output_type": "execute_result"
    }
   ],
   "source": [
    "# Uniendo los datos seleccionados\n",
    "rutas_imagenes = pd.concat([bush_data, no_bush_data], axis=0)\n",
    "rutas_imagenes.name.value_counts()"
   ]
  },
  {
   "cell_type": "code",
   "execution_count": 9,
   "id": "61623038",
   "metadata": {},
   "outputs": [],
   "source": [
    "# Separando los directorios de los datos de entrenamiento y validación\n",
    "bush_train, bush_test = train_test_split(rutas_imagenes,\n",
    "                                         test_size=0.2,\n",
    "                                         stratify=rutas_imagenes[\"name\"],\n",
    "                                         shuffle=True,\n",
    "                                         random_state=42)"
   ]
  },
  {
   "cell_type": "markdown",
   "id": "0031e311",
   "metadata": {},
   "source": [
    "## Estableciendo las funciones de uso"
   ]
  },
  {
   "cell_type": "markdown",
   "id": "17eaf34d",
   "metadata": {},
   "source": [
    "Creando los directorios para mover las imágenes"
   ]
  },
  {
   "cell_type": "code",
   "execution_count": 10,
   "id": "dcb274b5",
   "metadata": {},
   "outputs": [
    {
     "name": "stdout",
     "output_type": "stream",
     "text": [
      "Se movieron 10586 imágenes a carpeta train_bush/\n",
      "Se movieron 2647 imágenes a carpeta test_bush/\n"
     ]
    }
   ],
   "source": [
    "import shutil\n",
    "\n",
    "def make_directory_1(ruta, data):\n",
    "    cont = 0\n",
    "\n",
    "    for i in data[\"path_img\"]:\n",
    "        if not os.path.exists(os.path.join(\"../../../../../data_main/\", ruta)):\n",
    "            os.mkdir(os.path.join(\"../../../../../data_main/\", ruta))\n",
    "\n",
    "        name_file = data.loc[data[\"path_img\"]==i][\"name\"]\n",
    "        name_file = str(list(name_file)[0])\n",
    "\n",
    "        if not os.path.exists(os.path.join(\"../../../../../data_main/\", ruta, name_file)):\n",
    "            os.mkdir(os.path.join(\"../../../../../data_main/\", ruta, name_file))\n",
    "\n",
    "        data_from = os.path.join(path_kaggle_dataset, \"lfw-deepfunneled/lfw-deepfunneled\", i)\n",
    "        data_to = os.path.join(\"../../../../../data_main/\", ruta, name_file)\n",
    "        shutil.copy(data_from, data_to)\n",
    "        cont += 1\n",
    "\n",
    "    print(f\"Se movieron {cont} imágenes a carpeta {ruta}\")\n",
    "\n",
    "make_directory_1('train_bush/', bush_train)\n",
    "make_directory_1('test_bush/', bush_test)"
   ]
  },
  {
   "cell_type": "markdown",
   "id": "2e45b46c",
   "metadata": {},
   "source": [
    "## Implementación de la red neuronal convolucional"
   ]
  },
  {
   "cell_type": "code",
   "execution_count": 11,
   "id": "29a0a751",
   "metadata": {},
   "outputs": [],
   "source": [
    "# Estableciendo los callbacks con el cual se optimiza el modelo\n",
    "early_stopping = EarlyStopping(\n",
    "    monitor=\"val_accuracy\",\n",
    "    min_delta=0.00005,\n",
    "    patience=5,\n",
    "    verbose=1,\n",
    "    restore_best_weights=True\n",
    ")\n",
    "\n",
    "lr_scheduler = ReduceLROnPlateau(\n",
    "    monitor=\"val_accuracy\",\n",
    "    factor=0.5,\n",
    "    patience=5,\n",
    "    min_lr=1e-7,\n",
    "    verbose=1\n",
    ")\n",
    "\n",
    "callbacks = [early_stopping, lr_scheduler]"
   ]
  },
  {
   "cell_type": "code",
   "execution_count": 12,
   "id": "78d3ed9c",
   "metadata": {},
   "outputs": [
    {
     "data": {
      "text/plain": [
       "(250, 250, 3)"
      ]
     },
     "execution_count": 12,
     "metadata": {},
     "output_type": "execute_result"
    }
   ],
   "source": [
    "imagen_de_muestra = os.path.join(\"../../../../../data_main/\", \"train_bush\", \"George_W_Bush\", \"George_W_Bush_0001.jpg\")\n",
    "imagen = load_img(imagen_de_muestra)\n",
    "imagen_array = img_to_array(imagen)\n",
    "imagen_array.shape"
   ]
  },
  {
   "cell_type": "code",
   "execution_count": 13,
   "id": "9d82e71a",
   "metadata": {},
   "outputs": [
    {
     "name": "stderr",
     "output_type": "stream",
     "text": [
      "I0000 00:00:1756677914.522236    5058 gpu_device.cc:2019] Created device /job:localhost/replica:0/task:0/device:GPU:0 with 1767 MB memory:  -> device: 0, name: NVIDIA GeForce RTX 3050 Laptop GPU, pci bus id: 0000:01:00.0, compute capability: 8.6\n"
     ]
    }
   ],
   "source": [
    "model_conv = Sequential()\n",
    "model_conv.add(Input((128,128,3)))\n",
    "model_conv.add(Conv2D(filters=6, kernel_size=(5,5), activation=\"relu\"))\n",
    "model_conv.add(MaxPooling2D(pool_size=(2,2)))\n",
    "\n",
    "model_conv.add(Conv2D(filters=16, kernel_size=(5,5), activation=\"relu\"))\n",
    "model_conv.add(MaxPooling2D(pool_size=(2,2)))\n",
    "\n",
    "model_conv.add(Flatten())\n",
    "model_conv.add(Dense(120, activation=\"relu\"))\n",
    "model_conv.add(Dense(84, activation=\"relu\"))\n",
    "model_conv.add(Dense(1, activation=\"sigmoid\"))"
   ]
  },
  {
   "cell_type": "markdown",
   "id": "5cc393aa",
   "metadata": {},
   "source": [
    "Compilando el modelo"
   ]
  },
  {
   "cell_type": "code",
   "execution_count": 14,
   "id": "ca7a6238",
   "metadata": {},
   "outputs": [],
   "source": [
    "model_conv.compile(\n",
    "    optimizer=\"adam\",\n",
    "    loss=\"binary_crossentropy\",\n",
    "    metrics=[\"accuracy\"]\n",
    ")"
   ]
  },
  {
   "cell_type": "code",
   "execution_count": 15,
   "id": "0f100b33",
   "metadata": {},
   "outputs": [
    {
     "name": "stdout",
     "output_type": "stream",
     "text": [
      "Found 10586 images belonging to 2 classes.\n",
      "Found 2647 images belonging to 2 classes.\n"
     ]
    }
   ],
   "source": [
    "train_datagen = ImageDataGenerator(rescale=1/255,\n",
    "                                   shear_range=0.2,\n",
    "                                   zoom_range=0.2,\n",
    "                                   horizontal_flip=True)\n",
    "\n",
    "test_datagen = ImageDataGenerator(rescale=1/255)\n",
    "\n",
    "set_train = train_datagen.flow_from_directory(\"../../../../../data_main/train_bush/\",\n",
    "                                                       target_size=(128,128),\n",
    "                                                       #Agrupa las imágenes en lotes (batch_size=32), lo que significa que ya tienen una dimensión extra: (32, 128, 128, 3).\n",
    "                                                       batch_size=32,\n",
    "                                                       class_mode=\"binary\")\n",
    "set_test = test_datagen.flow_from_directory(\"../../../../../data_main/test_bush/\",\n",
    "                                                  target_size=(128,128),\n",
    "                                                  batch_size=15,\n",
    "                                                  class_mode=\"binary\")"
   ]
  },
  {
   "cell_type": "code",
   "execution_count": 16,
   "id": "816b4ef9",
   "metadata": {},
   "outputs": [
    {
     "name": "stdout",
     "output_type": "stream",
     "text": [
      "Epoch 1/15\n"
     ]
    },
    {
     "name": "stderr",
     "output_type": "stream",
     "text": [
      "/home/leonardope/mambaforge/envs/estudio/lib/python3.10/site-packages/keras/src/trainers/data_adapters/py_dataset_adapter.py:121: UserWarning: Your `PyDataset` class should call `super().__init__(**kwargs)` in its constructor. `**kwargs` can include `workers`, `use_multiprocessing`, `max_queue_size`. Do not pass these arguments to `fit()`, as they will be ignored.\n",
      "  self._warn_if_super_not_called()\n",
      "WARNING: All log messages before absl::InitializeLog() is called are written to STDERR\n",
      "I0000 00:00:1756677917.666747   12889 service.cc:152] XLA service 0x78acd00057e0 initialized for platform CUDA (this does not guarantee that XLA will be used). Devices:\n",
      "I0000 00:00:1756677917.666814   12889 service.cc:160]   StreamExecutor device (0): NVIDIA GeForce RTX 3050 Laptop GPU, Compute Capability 8.6\n",
      "2025-08-31 17:05:17.738338: I tensorflow/compiler/mlir/tensorflow/utils/dump_mlir_util.cc:269] disabling MLIR crash reproducer, set env var `MLIR_CRASH_REPRODUCER_DIRECTORY` to enable.\n",
      "I0000 00:00:1756677918.002841   12889 cuda_dnn.cc:529] Loaded cuDNN version 90501\n",
      "2025-08-31 17:05:19.196422: I external/local_xla/xla/stream_executor/cuda/subprocess_compilation.cc:346] ptxas warning : Registers are spilled to local memory in function 'gemm_fusion_dot_294', 76 bytes spill stores, 76 bytes spill loads\n",
      "\n",
      "2025-08-31 17:05:19.564227: I external/local_xla/xla/stream_executor/cuda/subprocess_compilation.cc:346] ptxas warning : Registers are spilled to local memory in function 'gemm_fusion_dot_596', 84 bytes spill stores, 84 bytes spill loads\n",
      "\n"
     ]
    },
    {
     "name": "stdout",
     "output_type": "stream",
     "text": [
      "\u001b[1m  3/331\u001b[0m \u001b[37m━━━━━━━━━━━━━━━━━━━━\u001b[0m \u001b[1m17s\u001b[0m 53ms/step - accuracy: 0.8611 - loss: 0.5760"
     ]
    },
    {
     "name": "stderr",
     "output_type": "stream",
     "text": [
      "I0000 00:00:1756677922.390371   12889 device_compiler.h:188] Compiled cluster using XLA!  This line is logged at most once for the lifetime of the process.\n"
     ]
    },
    {
     "name": "stdout",
     "output_type": "stream",
     "text": [
      "\u001b[1m 96/331\u001b[0m \u001b[32m━━━━━\u001b[0m\u001b[37m━━━━━━━━━━━━━━━\u001b[0m \u001b[1m26s\u001b[0m 112ms/step - accuracy: 0.9550 - loss: 0.2176"
     ]
    },
    {
     "name": "stderr",
     "output_type": "stream",
     "text": [
      "2025-08-31 17:05:33.916436: I external/local_xla/xla/stream_executor/cuda/subprocess_compilation.cc:346] ptxas warning : Registers are spilled to local memory in function 'gemm_fusion_dot_294', 4 bytes spill stores, 4 bytes spill loads\n",
      "\n",
      "2025-08-31 17:05:34.229646: I external/local_xla/xla/stream_executor/cuda/subprocess_compilation.cc:346] ptxas warning : Registers are spilled to local memory in function 'gemm_fusion_dot_294', 56 bytes spill stores, 56 bytes spill loads\n",
      "\n",
      "2025-08-31 17:05:34.588090: I external/local_xla/xla/stream_executor/cuda/subprocess_compilation.cc:346] ptxas warning : Registers are spilled to local memory in function 'gemm_fusion_dot_596', 52 bytes spill stores, 52 bytes spill loads\n",
      "\n"
     ]
    },
    {
     "name": "stdout",
     "output_type": "stream",
     "text": [
      "\u001b[1m331/331\u001b[0m \u001b[32m━━━━━━━━━━━━━━━━━━━━\u001b[0m\u001b[37m\u001b[0m \u001b[1m45s\u001b[0m 117ms/step - accuracy: 0.9597 - loss: 0.1622 - val_accuracy: 0.9660 - val_loss: 0.1052 - learning_rate: 0.0010\n",
      "Epoch 2/15\n",
      "\u001b[1m331/331\u001b[0m \u001b[32m━━━━━━━━━━━━━━━━━━━━\u001b[0m\u001b[37m\u001b[0m \u001b[1m33s\u001b[0m 100ms/step - accuracy: 0.9655 - loss: 0.1070 - val_accuracy: 0.9743 - val_loss: 0.0648 - learning_rate: 0.0010\n",
      "Epoch 3/15\n",
      "\u001b[1m331/331\u001b[0m \u001b[32m━━━━━━━━━━━━━━━━━━━━\u001b[0m\u001b[37m\u001b[0m \u001b[1m33s\u001b[0m 100ms/step - accuracy: 0.9753 - loss: 0.0787 - val_accuracy: 0.9728 - val_loss: 0.0677 - learning_rate: 0.0010\n",
      "Epoch 4/15\n",
      "\u001b[1m331/331\u001b[0m \u001b[32m━━━━━━━━━━━━━━━━━━━━\u001b[0m\u001b[37m\u001b[0m \u001b[1m33s\u001b[0m 101ms/step - accuracy: 0.9757 - loss: 0.0706 - val_accuracy: 0.9830 - val_loss: 0.0519 - learning_rate: 0.0010\n",
      "Epoch 5/15\n",
      "\u001b[1m331/331\u001b[0m \u001b[32m━━━━━━━━━━━━━━━━━━━━\u001b[0m\u001b[37m\u001b[0m \u001b[1m33s\u001b[0m 99ms/step - accuracy: 0.9821 - loss: 0.0522 - val_accuracy: 0.9830 - val_loss: 0.0426 - learning_rate: 0.0010\n",
      "Epoch 6/15\n",
      "\u001b[1m331/331\u001b[0m \u001b[32m━━━━━━━━━━━━━━━━━━━━\u001b[0m\u001b[37m\u001b[0m \u001b[1m33s\u001b[0m 99ms/step - accuracy: 0.9847 - loss: 0.0478 - val_accuracy: 0.9807 - val_loss: 0.0517 - learning_rate: 0.0010\n",
      "Epoch 7/15\n",
      "\u001b[1m331/331\u001b[0m \u001b[32m━━━━━━━━━━━━━━━━━━━━\u001b[0m\u001b[37m\u001b[0m \u001b[1m33s\u001b[0m 100ms/step - accuracy: 0.9877 - loss: 0.0417 - val_accuracy: 0.9875 - val_loss: 0.0317 - learning_rate: 0.0010\n",
      "Epoch 8/15\n",
      "\u001b[1m331/331\u001b[0m \u001b[32m━━━━━━━━━━━━━━━━━━━━\u001b[0m\u001b[37m\u001b[0m \u001b[1m33s\u001b[0m 98ms/step - accuracy: 0.9872 - loss: 0.0391 - val_accuracy: 0.9913 - val_loss: 0.0217 - learning_rate: 0.0010\n",
      "Epoch 9/15\n",
      "\u001b[1m331/331\u001b[0m \u001b[32m━━━━━━━━━━━━━━━━━━━━\u001b[0m\u001b[37m\u001b[0m \u001b[1m34s\u001b[0m 102ms/step - accuracy: 0.9871 - loss: 0.0379 - val_accuracy: 0.9928 - val_loss: 0.0212 - learning_rate: 0.0010\n",
      "Epoch 10/15\n",
      "\u001b[1m331/331\u001b[0m \u001b[32m━━━━━━━━━━━━━━━━━━━━\u001b[0m\u001b[37m\u001b[0m \u001b[1m34s\u001b[0m 103ms/step - accuracy: 0.9906 - loss: 0.0292 - val_accuracy: 0.9924 - val_loss: 0.0225 - learning_rate: 0.0010\n",
      "Epoch 11/15\n",
      "\u001b[1m331/331\u001b[0m \u001b[32m━━━━━━━━━━━━━━━━━━━━\u001b[0m\u001b[37m\u001b[0m \u001b[1m33s\u001b[0m 99ms/step - accuracy: 0.9907 - loss: 0.0280 - val_accuracy: 0.9921 - val_loss: 0.0212 - learning_rate: 0.0010\n",
      "Epoch 12/15\n",
      "\u001b[1m331/331\u001b[0m \u001b[32m━━━━━━━━━━━━━━━━━━━━\u001b[0m\u001b[37m\u001b[0m \u001b[1m31s\u001b[0m 94ms/step - accuracy: 0.9912 - loss: 0.0282 - val_accuracy: 0.9924 - val_loss: 0.0219 - learning_rate: 0.0010\n",
      "Epoch 13/15\n",
      "\u001b[1m331/331\u001b[0m \u001b[32m━━━━━━━━━━━━━━━━━━━━\u001b[0m\u001b[37m\u001b[0m \u001b[1m33s\u001b[0m 100ms/step - accuracy: 0.9925 - loss: 0.0228 - val_accuracy: 0.9906 - val_loss: 0.0201 - learning_rate: 0.0010\n",
      "Epoch 14/15\n",
      "\u001b[1m331/331\u001b[0m \u001b[32m━━━━━━━━━━━━━━━━━━━━\u001b[0m\u001b[37m\u001b[0m \u001b[1m0s\u001b[0m 85ms/step - accuracy: 0.9928 - loss: 0.0226\n",
      "Epoch 14: ReduceLROnPlateau reducing learning rate to 0.0005000000237487257.\n",
      "\u001b[1m331/331\u001b[0m \u001b[32m━━━━━━━━━━━━━━━━━━━━\u001b[0m\u001b[37m\u001b[0m \u001b[1m33s\u001b[0m 101ms/step - accuracy: 0.9935 - loss: 0.0217 - val_accuracy: 0.9887 - val_loss: 0.0270 - learning_rate: 0.0010\n",
      "Epoch 14: early stopping\n",
      "Restoring model weights from the end of the best epoch: 9.\n"
     ]
    }
   ],
   "source": [
    "history_conv = model_conv.fit(set_train,\n",
    "                              epochs=15,\n",
    "                              validation_data=set_test,\n",
    "                              callbacks=callbacks)"
   ]
  },
  {
   "cell_type": "markdown",
   "id": "d511b350",
   "metadata": {},
   "source": [
    "## Graficando las métricas de Accuracy y Loss"
   ]
  },
  {
   "cell_type": "code",
   "execution_count": 17,
   "id": "9225eaad",
   "metadata": {},
   "outputs": [
    {
     "data": {
      "image/png": "[encoded data removed]",
      "text/plain": [
       "<Figure size 1500x600 with 2 Axes>"
      ]
     },
     "metadata": {},
     "output_type": "display_data"
    }
   ],
   "source": [
    "fig, ax = plt.subplots(1, 2, figsize=(15, 6))\n",
    "ax[0].plot(history_conv.history['loss'], label=\"train\")\n",
    "ax[0].plot(history_conv.history['val_loss'], label=\"val\")\n",
    "ax[0].set_title('model loss')\n",
    "ax[0].set_ylabel('loss')\n",
    "ax[0].set_xlabel('epoch')\n",
    "\n",
    "ax[1].plot(history_conv.history['accuracy'], label=\"train\")\n",
    "ax[1].plot(history_conv.history['val_accuracy'], label=\"val\")\n",
    "ax[1].set_title('model accuracy')\n",
    "ax[1].set_ylabel('accuracy')\n",
    "ax[1].set_xlabel('epoch')\n",
    "plt.legend()\n",
    "plt.show()"
   ]
  },
  {
   "cell_type": "markdown",
   "id": "50e18bcf",
   "metadata": {},
   "source": [
    "Definiendo el orden de los nombres de las clases"
   ]
  },
  {
   "cell_type": "code",
   "execution_count": 18,
   "id": "e35517d7",
   "metadata": {},
   "outputs": [
    {
     "data": {
      "text/plain": [
       "{0: 'George_W_Bush', 1: 'no_George_W_Bush'}"
      ]
     },
     "execution_count": 18,
     "metadata": {},
     "output_type": "execute_result"
    }
   ],
   "source": [
    "from collections import OrderedDict\n",
    "names = []\n",
    "# obteniendo todos los nombres de los archivos de set_test.filenames en una lista\n",
    "for i in range(len(set_test.filenames)):\n",
    "    names.append(set_test.filenames[i])\n",
    "# extrayendo el primer nombre de cada archivo\n",
    "for i in range(len(names)):\n",
    "    names[i] = names[i].split(\"/\")[0]\n",
    "# eliminación de duplicados y se convierte a una lista\n",
    "names = list(OrderedDict.fromkeys(names))\n",
    "values = range(len(names))\n",
    "guia = {value: name for value, name in zip(values, names)}\n",
    "guia"
   ]
  },
  {
   "cell_type": "markdown",
   "id": "5014bdd7",
   "metadata": {},
   "source": [
    "## Realizando las predicciones"
   ]
  },
  {
   "cell_type": "code",
   "execution_count": 19,
   "id": "2136d5b8",
   "metadata": {},
   "outputs": [],
   "source": [
    "# función para predicciones\n",
    "def make_predict(ruta, model, binary):\n",
    "    predictions = []\n",
    "    for i in os.listdir(ruta):\n",
    "        test_image = load_img(ruta + \"/\" + str(i), target_size=(128,128))\n",
    "        test_image = img_to_array(test_image)\n",
    "        # se añade una dimensión mas \n",
    "        test_image = np.expand_dims(test_image, axis=0)\n",
    "    \n",
    "        if binary is True:\n",
    "            result = float(model.predict(test_image, verbose=0)[0][0])\n",
    "        else:\n",
    "            result = np.argmax(model.predict(test_image, verbose=0))\n",
    "        predictions.append(result)\n",
    "    return predictions"
   ]
  },
  {
   "cell_type": "code",
   "execution_count": 20,
   "id": "55181c7b",
   "metadata": {},
   "outputs": [],
   "source": [
    "ruta_test_bush = os.path.join(\"../../../../../data_main/test_bush/\", guia[0])\n",
    "ruta_test_no_bush = os.path.join(\"../../../../../data_main/test_bush/\", guia[1])\n",
    "predicciones_bush = make_predict(ruta_test_bush, model_conv, binary=True)\n",
    "predicciones_no_bush = make_predict(ruta_test_no_bush, model_conv, binary=True)"
   ]
  },
  {
   "cell_type": "code",
   "execution_count": 21,
   "id": "0d58e75a",
   "metadata": {},
   "outputs": [],
   "source": [
    "predicciones_bush_name = [guia[value] if value in guia else 'no_George_W_Bush' for value in predicciones_bush]\n",
    "predicciones_no_bush_name = [guia[value] if value in guia else 'George_W_Bush' for value in predicciones_no_bush]"
   ]
  },
  {
   "cell_type": "code",
   "execution_count": 22,
   "id": "8790b91c",
   "metadata": {},
   "outputs": [
    {
     "data": {
      "text/html": [
       "<div>\n",
       "<style scoped>\n",
       "    .dataframe tbody tr th:only-of-type {\n",
       "        vertical-align: middle;\n",
       "    }\n",
       "\n",
       "    .dataframe tbody tr th {\n",
       "        vertical-align: top;\n",
       "    }\n",
       "\n",
       "    .dataframe thead th {\n",
       "        text-align: right;\n",
       "    }\n",
       "</style>\n",
       "<table border=\"1\" class=\"dataframe\">\n",
       "  <thead>\n",
       "    <tr style=\"text-align: right;\">\n",
       "      <th></th>\n",
       "      <th>Predicciones</th>\n",
       "      <th>Valores_reales</th>\n",
       "    </tr>\n",
       "  </thead>\n",
       "  <tbody>\n",
       "    <tr>\n",
       "      <th>0</th>\n",
       "      <td>George_W_Bush</td>\n",
       "      <td>George_W_Bush</td>\n",
       "    </tr>\n",
       "    <tr>\n",
       "      <th>1</th>\n",
       "      <td>George_W_Bush</td>\n",
       "      <td>George_W_Bush</td>\n",
       "    </tr>\n",
       "    <tr>\n",
       "      <th>2</th>\n",
       "      <td>George_W_Bush</td>\n",
       "      <td>George_W_Bush</td>\n",
       "    </tr>\n",
       "    <tr>\n",
       "      <th>3</th>\n",
       "      <td>George_W_Bush</td>\n",
       "      <td>George_W_Bush</td>\n",
       "    </tr>\n",
       "    <tr>\n",
       "      <th>4</th>\n",
       "      <td>George_W_Bush</td>\n",
       "      <td>George_W_Bush</td>\n",
       "    </tr>\n",
       "  </tbody>\n",
       "</table>\n",
       "</div>"
      ],
      "text/plain": [
       "    Predicciones Valores_reales\n",
       "0  George_W_Bush  George_W_Bush\n",
       "1  George_W_Bush  George_W_Bush\n",
       "2  George_W_Bush  George_W_Bush\n",
       "3  George_W_Bush  George_W_Bush\n",
       "4  George_W_Bush  George_W_Bush"
      ]
     },
     "execution_count": 22,
     "metadata": {},
     "output_type": "execute_result"
    }
   ],
   "source": [
    "predicciones_total = pd.DataFrame(zip(predicciones_bush_name + predicciones_no_bush_name,\n",
    "                                      ['George_W_Bush']*len(predicciones_bush_name) + \n",
    "                                      ['no_George_W_Bush']*len(predicciones_no_bush_name)),\n",
    "                                      columns=[\"Predicciones\", \"Valores_reales\"])\n",
    "predicciones_total.head()"
   ]
  },
  {
   "cell_type": "markdown",
   "id": "7b4208d5",
   "metadata": {},
   "source": [
    "## Realizando la matriz de confusion"
   ]
  },
  {
   "cell_type": "code",
   "execution_count": 23,
   "id": "6b78a540",
   "metadata": {},
   "outputs": [
    {
     "data": {
      "image/png": "[encoded data removed]",
      "text/plain": [
       "<Figure size 640x480 with 2 Axes>"
      ]
     },
     "metadata": {},
     "output_type": "display_data"
    }
   ],
   "source": [
    "from sklearn.metrics import confusion_matrix, ConfusionMatrixDisplay\n",
    "\n",
    "cm = confusion_matrix(predicciones_total[\"Valores_reales\"], predicciones_total[\"Predicciones\"])\n",
    "dist = ConfusionMatrixDisplay(cm, display_labels=names)\n",
    "dist.plot()\n",
    "plt.show()"
   ]
  },
  {
   "cell_type": "code",
   "execution_count": 24,
   "id": "6fdd5ccc",
   "metadata": {},
   "outputs": [
    {
     "name": "stdout",
     "output_type": "stream",
     "text": [
      "El valor de la pérdida es: 0.021\n",
      "La precisión del modelo es de: 99.3%\n"
     ]
    }
   ],
   "source": [
    "loss, accuracy = model_conv.evaluate(set_test, verbose=0)\n",
    "print(F\"El valor de la pérdida es: {round(loss, 3)}\")\n",
    "print(f\"La precisión del modelo es de: {round(accuracy*100, 1)}%\")"
   ]
  },
  {
   "cell_type": "code",
   "execution_count": 30,
   "id": "90a0a96f",
   "metadata": {},
   "outputs": [
    {
     "data": {
      "text/plain": [
       "{'George_W_Bush': {'precision': 0.7338129496402878,\n",
       "  'recall': 0.9622641509433962,\n",
       "  'f1-score': 0.8326530612244898,\n",
       "  'support': 106.0},\n",
       " 'no_George_W_Bush': {'precision': 0.9984051036682615,\n",
       "  'recall': 0.9854388036206218,\n",
       "  'f1-score': 0.9918795801148742,\n",
       "  'support': 2541.0},\n",
       " 'accuracy': 0.9845107669059312,\n",
       " 'macro avg': {'precision': 0.8661090266542746,\n",
       "  'recall': 0.973851477282009,\n",
       "  'f1-score': 0.9122663206696819,\n",
       "  'support': 2647.0},\n",
       " 'weighted avg': {'precision': 0.9878094223962686,\n",
       "  'recall': 0.9845107669059312,\n",
       "  'f1-score': 0.9855033009299929,\n",
       "  'support': 2647.0}}"
      ]
     },
     "execution_count": 30,
     "metadata": {},
     "output_type": "execute_result"
    }
   ],
   "source": [
    "from sklearn.metrics import classification_report\n",
    "\n",
    "matrix_cr = classification_report(predicciones_total[\"Valores_reales\"], predicciones_total[\"Predicciones\"], output_dict=True)\n",
    "matrix_cr"
   ]
  },
  {
   "cell_type": "code",
   "execution_count": 36,
   "id": "353e66b0",
   "metadata": {},
   "outputs": [
    {
     "data": {
      "text/plain": [
       "73.0"
      ]
     },
     "execution_count": 36,
     "metadata": {},
     "output_type": "execute_result"
    }
   ],
   "source": [
    "round(matrix_cr[\"George_W_Bush\"][\"precision\"],2)*100"
   ]
  },
  {
   "cell_type": "code",
   "execution_count": 45,
   "id": "35fd9a8a",
   "metadata": {},
   "outputs": [
    {
     "name": "stdout",
     "output_type": "stream",
     "text": [
      "Interpretación:\n",
      "      George_W_Bush:\n",
      "      Precision: El 73.0% de las veces que el modelo predijo 'George_W_Bush', acertó.\n",
      "      Recall: El modelo detectó correctamente el 96.0% de las imágenes que realmente eran de George W. Bush.      \n",
      "      no_George_W_Bush:\n",
      "      Precision: El 100.0% de las veces que el modelo predijo 'no_George_W_Bush', acertó.\n",
      "      Recall: El modelo detectó correctamente el 99.0% de las imágenes que realmente no eran de George W. Bush.\n"
     ]
    }
   ],
   "source": [
    "print(f\"\"\"Interpretación:\\n\\\n",
    "      George_W_Bush:\\n\\\n",
    "      Precision: El {round(matrix_cr['George_W_Bush']['precision'],2)*100}% de las veces que el modelo predijo 'George_W_Bush', acertó.\\n\\\n",
    "      Recall: El modelo detectó correctamente el {round(matrix_cr['George_W_Bush']['recall'],2)*100}% de las imágenes que realmente eran de George W. Bush.\\\n",
    "      \\n\\\n",
    "      no_George_W_Bush:\\n\\\n",
    "      Precision: El {round(matrix_cr['no_George_W_Bush']['precision'],2)*100}% de las veces que el modelo predijo 'no_George_W_Bush', acertó.\\n\\\n",
    "      Recall: El modelo detectó correctamente el {round(matrix_cr['no_George_W_Bush']['recall'],2)*100}% de las imágenes que realmente no eran de George W. Bush.\"\"\")"
   ]
  },
  {
   "cell_type": "markdown",
   "id": "717a2323",
   "metadata": {},
   "source": [
    "## Guardando el mejor modelo"
   ]
  },
  {
   "cell_type": "code",
   "execution_count": 26,
   "id": "17bf16c8",
   "metadata": {},
   "outputs": [],
   "source": [
    "# from tensorflow.keras.models import load_model #type:ignore\n",
    "\n",
    "# model_conv.save(\"../../models/model_faces_bin.keras\")"
   ]
  }
 ],
 "metadata": {
  "kernelspec": {
   "display_name": "estudio",
   "language": "python",
   "name": "python3"
  },
  "language_info": {
   "codemirror_mode": {
    "name": "ipython",
    "version": 3
   },
   "file_extension": ".py",
   "mimetype": "text/x-python",
   "name": "python",
   "nbconvert_exporter": "python",
   "pygments_lexer": "ipython3",
   "version": "3.10.18"
  }
 },
 "nbformat": 4,
 "nbformat_minor": 5
}
