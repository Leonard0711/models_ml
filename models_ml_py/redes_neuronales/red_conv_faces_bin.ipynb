{
 "cells": [
  {
   "cell_type": "markdown",
   "id": "fe7d54b2",
   "metadata": {},
   "source": [
    "# Detecting faces:\n",
    "El siguiente notebook ejecuta un algoritmo el cual intenta identificar los rostros de algunas celebridades del dataset 'Labelled Faces in the Wild'."
   ]
  },
  {
   "cell_type": "code",
   "execution_count": 2,
   "id": "219b9bdf",
   "metadata": {},
   "outputs": [],
   "source": [
    "# Funciones generales\n",
    "import os\n",
    "import pandas as pd\n",
    "import numpy as np\n",
    "import seaborn as sns\n",
    "import matplotlib.pyplot as plt\n",
    "\n",
    "# Biblioteca para entrenamiento y validación\n",
    "from sklearn.model_selection import train_test_split\n",
    "\n",
    "# Copia de archivos\n",
    "import shutil\n",
    "\n",
    "# Creación de CNN\n",
    "from tensorflow.keras.models import Sequential #type: ignore\n",
    "from tensorflow.keras.layers import Input, Conv2D, BatchNormalization, Dropout, Flatten, MaxPooling2D, Dense #type: ignore\n",
    "from tensorflow.keras.preprocessing.image import ImageDataGenerator, load_img, img_to_array, array_to_img #type: ignore\n",
    "from tensorflow.keras.callbacks import EarlyStopping, ReduceLROnPlateau #type: ignore"
   ]
  },
  {
   "cell_type": "markdown",
   "id": "1587aad3",
   "metadata": {},
   "source": [
    "## Extrayendo los datos de Kaggle"
   ]
  },
  {
   "cell_type": "code",
   "execution_count": 3,
   "id": "fe99703f",
   "metadata": {},
   "outputs": [
    {
     "name": "stdout",
     "output_type": "stream",
     "text": [
      "Warning: Looks like you're using an outdated `kagglehub` version (installed: 0.3.12), please consider upgrading to the latest version (0.3.13).\n"
     ]
    },
    {
     "data": {
      "text/html": [
       "<div>\n",
       "<style scoped>\n",
       "    .dataframe tbody tr th:only-of-type {\n",
       "        vertical-align: middle;\n",
       "    }\n",
       "\n",
       "    .dataframe tbody tr th {\n",
       "        vertical-align: top;\n",
       "    }\n",
       "\n",
       "    .dataframe thead th {\n",
       "        text-align: right;\n",
       "    }\n",
       "</style>\n",
       "<table border=\"1\" class=\"dataframe\">\n",
       "  <thead>\n",
       "    <tr style=\"text-align: right;\">\n",
       "      <th></th>\n",
       "      <th>name</th>\n",
       "      <th>images</th>\n",
       "    </tr>\n",
       "  </thead>\n",
       "  <tbody>\n",
       "    <tr>\n",
       "      <th>0</th>\n",
       "      <td>AJ_Cook</td>\n",
       "      <td>1</td>\n",
       "    </tr>\n",
       "    <tr>\n",
       "      <th>1</th>\n",
       "      <td>AJ_Lamas</td>\n",
       "      <td>1</td>\n",
       "    </tr>\n",
       "    <tr>\n",
       "      <th>2</th>\n",
       "      <td>Aaron_Eckhart</td>\n",
       "      <td>1</td>\n",
       "    </tr>\n",
       "    <tr>\n",
       "      <th>3</th>\n",
       "      <td>Aaron_Guiel</td>\n",
       "      <td>1</td>\n",
       "    </tr>\n",
       "    <tr>\n",
       "      <th>4</th>\n",
       "      <td>Aaron_Patterson</td>\n",
       "      <td>1</td>\n",
       "    </tr>\n",
       "  </tbody>\n",
       "</table>\n",
       "</div>"
      ],
      "text/plain": [
       "              name  images\n",
       "0          AJ_Cook       1\n",
       "1         AJ_Lamas       1\n",
       "2    Aaron_Eckhart       1\n",
       "3      Aaron_Guiel       1\n",
       "4  Aaron_Patterson       1"
      ]
     },
     "execution_count": 3,
     "metadata": {},
     "output_type": "execute_result"
    }
   ],
   "source": [
    "import kagglehub #type:ignore\n",
    "path_kaggle_dataset = kagglehub.dataset_download('jessicali9530/lfw-dataset')\n",
    "\n",
    "# Ruta al archivo CSV\n",
    "csv_path = os.path.join(path_kaggle_dataset, 'lfw_allnames.csv')\n",
    "df_faces_dataset = pd.read_csv(csv_path)\n",
    "df_faces_dataset.head()"
   ]
  },
  {
   "cell_type": "markdown",
   "id": "195f1a8c",
   "metadata": {},
   "source": [
    "## Creando las rutas de cada imagen"
   ]
  },
  {
   "cell_type": "code",
   "execution_count": 4,
   "id": "90cbfa45",
   "metadata": {},
   "outputs": [
    {
     "data": {
      "text/html": [
       "<div>\n",
       "<style scoped>\n",
       "    .dataframe tbody tr th:only-of-type {\n",
       "        vertical-align: middle;\n",
       "    }\n",
       "\n",
       "    .dataframe tbody tr th {\n",
       "        vertical-align: top;\n",
       "    }\n",
       "\n",
       "    .dataframe thead th {\n",
       "        text-align: right;\n",
       "    }\n",
       "</style>\n",
       "<table border=\"1\" class=\"dataframe\">\n",
       "  <thead>\n",
       "    <tr style=\"text-align: right;\">\n",
       "      <th></th>\n",
       "      <th>name</th>\n",
       "      <th>path_img</th>\n",
       "    </tr>\n",
       "  </thead>\n",
       "  <tbody>\n",
       "    <tr>\n",
       "      <th>0</th>\n",
       "      <td>AJ_Cook</td>\n",
       "      <td>AJ_Cook/AJ_Cook_0001.jpg</td>\n",
       "    </tr>\n",
       "    <tr>\n",
       "      <th>1</th>\n",
       "      <td>AJ_Lamas</td>\n",
       "      <td>AJ_Lamas/AJ_Lamas_0001.jpg</td>\n",
       "    </tr>\n",
       "    <tr>\n",
       "      <th>2</th>\n",
       "      <td>Aaron_Eckhart</td>\n",
       "      <td>Aaron_Eckhart/Aaron_Eckhart_0001.jpg</td>\n",
       "    </tr>\n",
       "    <tr>\n",
       "      <th>3</th>\n",
       "      <td>Aaron_Guiel</td>\n",
       "      <td>Aaron_Guiel/Aaron_Guiel_0001.jpg</td>\n",
       "    </tr>\n",
       "    <tr>\n",
       "      <th>4</th>\n",
       "      <td>Aaron_Patterson</td>\n",
       "      <td>Aaron_Patterson/Aaron_Patterson_0001.jpg</td>\n",
       "    </tr>\n",
       "  </tbody>\n",
       "</table>\n",
       "</div>"
      ],
      "text/plain": [
       "              name                                  path_img\n",
       "0          AJ_Cook                  AJ_Cook/AJ_Cook_0001.jpg\n",
       "1         AJ_Lamas                AJ_Lamas/AJ_Lamas_0001.jpg\n",
       "2    Aaron_Eckhart      Aaron_Eckhart/Aaron_Eckhart_0001.jpg\n",
       "3      Aaron_Guiel          Aaron_Guiel/Aaron_Guiel_0001.jpg\n",
       "4  Aaron_Patterson  Aaron_Patterson/Aaron_Patterson_0001.jpg"
      ]
     },
     "execution_count": 4,
     "metadata": {},
     "output_type": "execute_result"
    }
   ],
   "source": [
    "# repite cada fila de acuerdo a la cantidad de imagenes que almacena\n",
    "df_images_paths = df_faces_dataset.loc[df_faces_dataset.index.repeat(df_faces_dataset[\"images\"])]\n",
    "# suma acumulada de cada imagen que almacena\n",
    "df_images_paths[\"path_img\"] = df_images_paths.groupby(\"name\").cumcount() + 1\n",
    "# cantidad de imagen que alamcena de completa con 0 hasta 4 cifras\n",
    "df_images_paths[\"path_img\"] = df_images_paths.path_img.apply(lambda x: f\"{x:04}\")\n",
    "# formato de la ruta de cada imagen\n",
    "df_images_paths[\"path_img\"] = df_images_paths.name + \"/\" + df_images_paths.name + \"_\" + df_images_paths.path_img + \".jpg\"\n",
    "df_images_paths = df_images_paths.drop(\"images\", axis=1)\n",
    "df_images_paths.head()"
   ]
  },
  {
   "cell_type": "code",
   "execution_count": 5,
   "id": "79f48dad",
   "metadata": {},
   "outputs": [
    {
     "name": "stdout",
     "output_type": "stream",
     "text": [
      "        Height   Widths\n",
      "count  13233.0  13233.0\n",
      "mean     128.0    128.0\n",
      "std        0.0      0.0\n",
      "min      128.0    128.0\n",
      "25%      128.0    128.0\n",
      "50%      128.0    128.0\n",
      "75%      128.0    128.0\n",
      "max      128.0    128.0\n"
     ]
    }
   ],
   "source": [
    "# verificando la resolucion de las imágenes\n",
    "widths = []\n",
    "heights = []\n",
    "\n",
    "rutas = df_images_paths[\"path_img\"]\n",
    "for file in rutas:\n",
    "    # ruta de cada imagen en kaggle\n",
    "    path_img = os.path.join(path_kaggle_dataset, \"lfw-deepfunneled/lfw-deepfunneled\", str(file))\n",
    "    imagen = load_img(path_img, target_size=(128,128))\n",
    "    widths.append(imagen.width)\n",
    "    heights.append(imagen.height)\n",
    "\n",
    "dimensiones = pd.DataFrame({\"Height\": heights, \"Widths\": widths})\n",
    "print(dimensiones.describe())"
   ]
  },
  {
   "cell_type": "code",
   "execution_count": 6,
   "id": "a9654418",
   "metadata": {},
   "outputs": [
    {
     "name": "stdout",
     "output_type": "stream",
     "text": [
      "                name  count\n",
      "0      George_W_Bush    530\n",
      "1       Colin_Powell    236\n",
      "2         Tony_Blair    144\n",
      "3    Donald_Rumsfeld    121\n",
      "4  Gerhard_Schroeder    109\n",
      "5       Ariel_Sharon     77\n"
     ]
    },
    {
     "data": {
      "image/png": "[encoded data removed]",
      "text/plain": [
       "<Figure size 640x480 with 1 Axes>"
      ]
     },
     "metadata": {},
     "output_type": "display_data"
    }
   ],
   "source": [
    "# distribución de la cantidad imagenes por cada personaje\n",
    "names_top = df_images_paths.name.value_counts().sort_values(ascending=False).reset_index().iloc[:6,]\n",
    "print(names_top)\n",
    "sns.barplot(data=names_top, x=\"name\", y=\"count\")\n",
    "plt.xticks(rotation=45)\n",
    "plt.title(\"Personajes con mas presencia\", size=17)\n",
    "plt.show()"
   ]
  },
  {
   "cell_type": "markdown",
   "id": "54ff7177",
   "metadata": {},
   "source": [
    "Para este proyecto se tomará la predicción del personaje George W. Bush ya que cuenta con\n",
    "una mayor cantidad de imágenes"
   ]
  },
  {
   "cell_type": "code",
   "execution_count": 7,
   "id": "69f800ca",
   "metadata": {},
   "outputs": [],
   "source": [
    "# Separando los datos que pertenecen al personaje seleccionado\n",
    "bush_data = df_images_paths.loc[df_images_paths[\"name\"]==\"George_W_Bush\"]\n",
    "bush_data.reset_index(drop=True, inplace=True)"
   ]
  },
  {
   "cell_type": "code",
   "execution_count": 8,
   "id": "f29ca789",
   "metadata": {},
   "outputs": [],
   "source": [
    "# Seleccionamos de las imágenes que no pertenecen al personaje seleccionado\n",
    "# una cantidad igual de imágenes\n",
    "no_bush_data = df_images_paths.loc[df_images_paths[\"name\"]!=\"George_W_Bush\"]\n",
    "no_bush_data.reset_index(drop=True, inplace=True)\n",
    "no_bush_data.loc[:, \"name\"] = \"no_George_W_Bush\""
   ]
  },
  {
   "cell_type": "code",
   "execution_count": 9,
   "id": "97357c02",
   "metadata": {},
   "outputs": [
    {
     "data": {
      "text/plain": [
       "name\n",
       "no_George_W_Bush    12703\n",
       "George_W_Bush         530\n",
       "Name: count, dtype: int64"
      ]
     },
     "execution_count": 9,
     "metadata": {},
     "output_type": "execute_result"
    }
   ],
   "source": [
    "# Uniendo los datos seleccionados\n",
    "rutas_imagenes = pd.concat([bush_data, no_bush_data], axis=0)\n",
    "rutas_imagenes.name.value_counts()"
   ]
  },
  {
   "cell_type": "code",
   "execution_count": 10,
   "id": "61623038",
   "metadata": {},
   "outputs": [],
   "source": [
    "# Separando los directorios de los datos de entrenamiento y validación\n",
    "bush_train, bush_test = train_test_split(rutas_imagenes,\n",
    "                                         test_size=0.2,\n",
    "                                         stratify=rutas_imagenes[\"name\"],\n",
    "                                         shuffle=True,\n",
    "                                         random_state=42)"
   ]
  },
  {
   "cell_type": "markdown",
   "id": "0031e311",
   "metadata": {},
   "source": [
    "## Estableciendo las funciones de uso"
   ]
  },
  {
   "cell_type": "markdown",
   "id": "17eaf34d",
   "metadata": {},
   "source": [
    "Creando los directorios para mover las imágenes"
   ]
  },
  {
   "cell_type": "code",
   "execution_count": 11,
   "id": "dcb274b5",
   "metadata": {},
   "outputs": [
    {
     "name": "stdout",
     "output_type": "stream",
     "text": [
      "Se movieron 10586 imágenes a carpeta train_bush/\n",
      "Se movieron 2647 imágenes a carpeta test_bush/\n"
     ]
    }
   ],
   "source": [
    "import shutil\n",
    "\n",
    "def make_directory_1(ruta, data):\n",
    "    cont = 0\n",
    "\n",
    "    for i in data[\"path_img\"]:\n",
    "        if not os.path.exists(os.path.join(\"../../../../../data_main/\", ruta)):\n",
    "            os.mkdir(os.path.join(\"../../../../../data_main/\", ruta))\n",
    "\n",
    "        name_file = data.loc[data[\"path_img\"]==i][\"name\"]\n",
    "        name_file = str(list(name_file)[0])\n",
    "\n",
    "        if not os.path.exists(os.path.join(\"../../../../../data_main/\", ruta, name_file)):\n",
    "            os.mkdir(os.path.join(\"../../../../../data_main/\", ruta, name_file))\n",
    "\n",
    "        data_from = os.path.join(path_kaggle_dataset, \"lfw-deepfunneled/lfw-deepfunneled\", i)\n",
    "        data_to = os.path.join(\"../../../../../data_main/\", ruta, name_file)\n",
    "        shutil.copy(data_from, data_to)\n",
    "        cont += 1\n",
    "\n",
    "    print(f\"Se movieron {cont} imágenes a carpeta {ruta}\")\n",
    "\n",
    "make_directory_1('train_bush/', bush_train)\n",
    "make_directory_1('test_bush/', bush_test)"
   ]
  },
  {
   "cell_type": "markdown",
   "id": "2e45b46c",
   "metadata": {},
   "source": [
    "## Implementación de la red neuronal convolucional"
   ]
  },
  {
   "cell_type": "code",
   "execution_count": 12,
   "id": "29a0a751",
   "metadata": {},
   "outputs": [],
   "source": [
    "# Estableciendo los callbacks con el cual se optimiza el modelo\n",
    "early_stopping = EarlyStopping(\n",
    "    monitor=\"val_accuracy\",\n",
    "    min_delta=0.00005,\n",
    "    patience=5,\n",
    "    verbose=1,\n",
    "    restore_best_weights=True\n",
    ")\n",
    "\n",
    "lr_scheduler = ReduceLROnPlateau(\n",
    "    monitor=\"val_accuracy\",\n",
    "    factor=0.5,\n",
    "    patience=5,\n",
    "    min_lr=1e-7,\n",
    "    verbose=1\n",
    ")\n",
    "\n",
    "callbacks = [early_stopping, lr_scheduler]"
   ]
  },
  {
   "cell_type": "code",
   "execution_count": 13,
   "id": "78d3ed9c",
   "metadata": {},
   "outputs": [
    {
     "data": {
      "text/plain": [
       "(250, 250, 3)"
      ]
     },
     "execution_count": 13,
     "metadata": {},
     "output_type": "execute_result"
    }
   ],
   "source": [
    "imagen_de_muestra = os.path.join(\"../../../../../data_main/\", \"train_bush\", \"George_W_Bush\", \"George_W_Bush_0001.jpg\")\n",
    "imagen = load_img(imagen_de_muestra)\n",
    "imagen_array = img_to_array(imagen)\n",
    "imagen_array.shape"
   ]
  },
  {
   "cell_type": "code",
   "execution_count": 14,
   "id": "9d82e71a",
   "metadata": {},
   "outputs": [
    {
     "name": "stderr",
     "output_type": "stream",
     "text": [
      "I0000 00:00:1756583936.143511    3713 gpu_device.cc:2019] Created device /job:localhost/replica:0/task:0/device:GPU:0 with 1767 MB memory:  -> device: 0, name: NVIDIA GeForce RTX 3050 Laptop GPU, pci bus id: 0000:01:00.0, compute capability: 8.6\n"
     ]
    }
   ],
   "source": [
    "model_conv = Sequential()\n",
    "model_conv.add(Input((128,128,3)))\n",
    "model_conv.add(Conv2D(filters=6, kernel_size=(5,5), activation=\"relu\"))\n",
    "model_conv.add(MaxPooling2D(pool_size=(2,2)))\n",
    "\n",
    "model_conv.add(Conv2D(filters=16, kernel_size=(5,5), activation=\"relu\"))\n",
    "model_conv.add(MaxPooling2D(pool_size=(2,2)))\n",
    "\n",
    "model_conv.add(Flatten())\n",
    "model_conv.add(Dense(120, activation=\"relu\"))\n",
    "model_conv.add(Dense(84, activation=\"relu\"))\n",
    "model_conv.add(Dense(1, activation=\"sigmoid\"))"
   ]
  },
  {
   "cell_type": "markdown",
   "id": "5cc393aa",
   "metadata": {},
   "source": [
    "Compilando el modelo"
   ]
  },
  {
   "cell_type": "code",
   "execution_count": 15,
   "id": "ca7a6238",
   "metadata": {},
   "outputs": [],
   "source": [
    "model_conv.compile(\n",
    "    optimizer=\"adam\",\n",
    "    loss=\"binary_crossentropy\",\n",
    "    metrics=[\"accuracy\"]\n",
    ")"
   ]
  },
  {
   "cell_type": "code",
   "execution_count": 16,
   "id": "0f100b33",
   "metadata": {},
   "outputs": [
    {
     "name": "stdout",
     "output_type": "stream",
     "text": [
      "Found 10586 images belonging to 2 classes.\n",
      "Found 2647 images belonging to 2 classes.\n"
     ]
    }
   ],
   "source": [
    "train_datagen = ImageDataGenerator(rescale=1/255,\n",
    "                                   shear_range=0.2,\n",
    "                                   zoom_range=0.2,\n",
    "                                   horizontal_flip=True)\n",
    "\n",
    "test_datagen = ImageDataGenerator(rescale=1/255)\n",
    "\n",
    "set_train = train_datagen.flow_from_directory(\"../../../../../data_main/train_bush/\",\n",
    "                                                       target_size=(128,128),\n",
    "                                                       #Agrupa las imágenes en lotes (batch_size=32), lo que significa que ya tienen una dimensión extra: (32, 128, 128, 3).\n",
    "                                                       batch_size=32,\n",
    "                                                       class_mode=\"binary\")\n",
    "set_test = test_datagen.flow_from_directory(\"../../../../../data_main/test_bush/\",\n",
    "                                                  target_size=(128,128),\n",
    "                                                  batch_size=15,\n",
    "                                                  class_mode=\"binary\")"
   ]
  },
  {
   "cell_type": "code",
   "execution_count": 17,
   "id": "816b4ef9",
   "metadata": {},
   "outputs": [
    {
     "name": "stderr",
     "output_type": "stream",
     "text": [
      "/home/leonardope/mambaforge/envs/estudio/lib/python3.10/site-packages/keras/src/trainers/data_adapters/py_dataset_adapter.py:121: UserWarning: Your `PyDataset` class should call `super().__init__(**kwargs)` in its constructor. `**kwargs` can include `workers`, `use_multiprocessing`, `max_queue_size`. Do not pass these arguments to `fit()`, as they will be ignored.\n",
      "  self._warn_if_super_not_called()\n"
     ]
    },
    {
     "name": "stdout",
     "output_type": "stream",
     "text": [
      "Epoch 1/15\n"
     ]
    },
    {
     "name": "stderr",
     "output_type": "stream",
     "text": [
      "WARNING: All log messages before absl::InitializeLog() is called are written to STDERR\n",
      "I0000 00:00:1756583942.268018    3984 service.cc:152] XLA service 0x7268d4016810 initialized for platform CUDA (this does not guarantee that XLA will be used). Devices:\n",
      "I0000 00:00:1756583942.268084    3984 service.cc:160]   StreamExecutor device (0): NVIDIA GeForce RTX 3050 Laptop GPU, Compute Capability 8.6\n",
      "2025-08-30 14:59:02.371136: I tensorflow/compiler/mlir/tensorflow/utils/dump_mlir_util.cc:269] disabling MLIR crash reproducer, set env var `MLIR_CRASH_REPRODUCER_DIRECTORY` to enable.\n",
      "I0000 00:00:1756583942.831225    3984 cuda_dnn.cc:529] Loaded cuDNN version 90501\n",
      "2025-08-30 14:59:04.440420: I external/local_xla/xla/stream_executor/cuda/subprocess_compilation.cc:346] ptxas warning : Registers are spilled to local memory in function 'gemm_fusion_dot_596', 84 bytes spill stores, 84 bytes spill loads\n",
      "\n",
      "2025-08-30 14:59:04.579894: I external/local_xla/xla/stream_executor/cuda/subprocess_compilation.cc:346] ptxas warning : Registers are spilled to local memory in function 'gemm_fusion_dot_294', 76 bytes spill stores, 76 bytes spill loads\n",
      "\n"
     ]
    },
    {
     "name": "stdout",
     "output_type": "stream",
     "text": [
      "\u001b[1m  1/331\u001b[0m \u001b[37m━━━━━━━━━━━━━━━━━━━━\u001b[0m \u001b[1m47:50\u001b[0m 9s/step - accuracy: 0.2812 - loss: 0.6979"
     ]
    },
    {
     "name": "stderr",
     "output_type": "stream",
     "text": [
      "I0000 00:00:1756583948.405656    3984 device_compiler.h:188] Compiled cluster using XLA!  This line is logged at most once for the lifetime of the process.\n",
      "2025-08-30 14:59:09.587909: I external/local_xla/xla/stream_executor/cuda/subprocess_compilation.cc:346] ptxas warning : Registers are spilled to local memory in function 'gemm_fusion_dot_294', 4 bytes spill stores, 4 bytes spill loads\n",
      "\n",
      "2025-08-30 14:59:09.872174: I external/local_xla/xla/stream_executor/cuda/subprocess_compilation.cc:346] ptxas warning : Registers are spilled to local memory in function 'gemm_fusion_dot_294', 56 bytes spill stores, 56 bytes spill loads\n",
      "\n",
      "2025-08-30 14:59:10.213703: I external/local_xla/xla/stream_executor/cuda/subprocess_compilation.cc:346] ptxas warning : Registers are spilled to local memory in function 'gemm_fusion_dot_596', 52 bytes spill stores, 52 bytes spill loads\n",
      "\n"
     ]
    },
    {
     "name": "stdout",
     "output_type": "stream",
     "text": [
      "\u001b[1m331/331\u001b[0m \u001b[32m━━━━━━━━━━━━━━━━━━━━\u001b[0m\u001b[37m\u001b[0m \u001b[1m63s\u001b[0m 166ms/step - accuracy: 0.9578 - loss: 0.1650 - val_accuracy: 0.9600 - val_loss: 0.1101 - learning_rate: 0.0010\n",
      "Epoch 2/15\n",
      "\u001b[1m331/331\u001b[0m \u001b[32m━━━━━━━━━━━━━━━━━━━━\u001b[0m\u001b[37m\u001b[0m \u001b[1m49s\u001b[0m 146ms/step - accuracy: 0.9659 - loss: 0.1084 - val_accuracy: 0.9754 - val_loss: 0.0647 - learning_rate: 0.0010\n",
      "Epoch 3/15\n",
      "\u001b[1m331/331\u001b[0m \u001b[32m━━━━━━━━━━━━━━━━━━━━\u001b[0m\u001b[37m\u001b[0m \u001b[1m40s\u001b[0m 120ms/step - accuracy: 0.9749 - loss: 0.0760 - val_accuracy: 0.9773 - val_loss: 0.0570 - learning_rate: 0.0010\n",
      "Epoch 4/15\n",
      "\u001b[1m331/331\u001b[0m \u001b[32m━━━━━━━━━━━━━━━━━━━━\u001b[0m\u001b[37m\u001b[0m \u001b[1m45s\u001b[0m 134ms/step - accuracy: 0.9785 - loss: 0.0639 - val_accuracy: 0.9747 - val_loss: 0.1001 - learning_rate: 0.0010\n",
      "Epoch 5/15\n",
      "\u001b[1m331/331\u001b[0m \u001b[32m━━━━━━━━━━━━━━━━━━━━\u001b[0m\u001b[37m\u001b[0m \u001b[1m40s\u001b[0m 121ms/step - accuracy: 0.9855 - loss: 0.0456 - val_accuracy: 0.9898 - val_loss: 0.0313 - learning_rate: 0.0010\n",
      "Epoch 6/15\n",
      "\u001b[1m331/331\u001b[0m \u001b[32m━━━━━━━━━━━━━━━━━━━━\u001b[0m\u001b[37m\u001b[0m \u001b[1m42s\u001b[0m 126ms/step - accuracy: 0.9838 - loss: 0.0494 - val_accuracy: 0.9909 - val_loss: 0.0298 - learning_rate: 0.0010\n",
      "Epoch 7/15\n",
      "\u001b[1m331/331\u001b[0m \u001b[32m━━━━━━━━━━━━━━━━━━━━\u001b[0m\u001b[37m\u001b[0m \u001b[1m35s\u001b[0m 104ms/step - accuracy: 0.9856 - loss: 0.0428 - val_accuracy: 0.9894 - val_loss: 0.0345 - learning_rate: 0.0010\n",
      "Epoch 8/15\n",
      "\u001b[1m331/331\u001b[0m \u001b[32m━━━━━━━━━━━━━━━━━━━━\u001b[0m\u001b[37m\u001b[0m \u001b[1m40s\u001b[0m 122ms/step - accuracy: 0.9889 - loss: 0.0350 - val_accuracy: 0.9875 - val_loss: 0.0343 - learning_rate: 0.0010\n",
      "Epoch 9/15\n",
      "\u001b[1m331/331\u001b[0m \u001b[32m━━━━━━━━━━━━━━━━━━━━\u001b[0m\u001b[37m\u001b[0m \u001b[1m36s\u001b[0m 110ms/step - accuracy: 0.9883 - loss: 0.0356 - val_accuracy: 0.9883 - val_loss: 0.0289 - learning_rate: 0.0010\n",
      "Epoch 10/15\n",
      "\u001b[1m331/331\u001b[0m \u001b[32m━━━━━━━━━━━━━━━━━━━━\u001b[0m\u001b[37m\u001b[0m \u001b[1m38s\u001b[0m 116ms/step - accuracy: 0.9902 - loss: 0.0305 - val_accuracy: 0.9913 - val_loss: 0.0262 - learning_rate: 0.0010\n",
      "Epoch 11/15\n",
      "\u001b[1m331/331\u001b[0m \u001b[32m━━━━━━━━━━━━━━━━━━━━\u001b[0m\u001b[37m\u001b[0m \u001b[1m48s\u001b[0m 145ms/step - accuracy: 0.9911 - loss: 0.0298 - val_accuracy: 0.9894 - val_loss: 0.0329 - learning_rate: 0.0010\n",
      "Epoch 12/15\n",
      "\u001b[1m331/331\u001b[0m \u001b[32m━━━━━━━━━━━━━━━━━━━━\u001b[0m\u001b[37m\u001b[0m \u001b[1m43s\u001b[0m 129ms/step - accuracy: 0.9910 - loss: 0.0269 - val_accuracy: 0.9864 - val_loss: 0.0398 - learning_rate: 0.0010\n",
      "Epoch 13/15\n",
      "\u001b[1m331/331\u001b[0m \u001b[32m━━━━━━━━━━━━━━━━━━━━\u001b[0m\u001b[37m\u001b[0m \u001b[1m41s\u001b[0m 124ms/step - accuracy: 0.9919 - loss: 0.0259 - val_accuracy: 0.9932 - val_loss: 0.0187 - learning_rate: 0.0010\n",
      "Epoch 14/15\n",
      "\u001b[1m331/331\u001b[0m \u001b[32m━━━━━━━━━━━━━━━━━━━━\u001b[0m\u001b[37m\u001b[0m \u001b[1m39s\u001b[0m 118ms/step - accuracy: 0.9935 - loss: 0.0211 - val_accuracy: 0.9917 - val_loss: 0.0215 - learning_rate: 0.0010\n",
      "Epoch 15/15\n",
      "\u001b[1m331/331\u001b[0m \u001b[32m━━━━━━━━━━━━━━━━━━━━\u001b[0m\u001b[37m\u001b[0m \u001b[1m45s\u001b[0m 135ms/step - accuracy: 0.9925 - loss: 0.0230 - val_accuracy: 0.9943 - val_loss: 0.0181 - learning_rate: 0.0010\n",
      "Restoring model weights from the end of the best epoch: 15.\n"
     ]
    }
   ],
   "source": [
    "history_conv = model_conv.fit(set_train,\n",
    "                              epochs=15,\n",
    "                              validation_data=set_test,\n",
    "                              callbacks=callbacks)"
   ]
  },
  {
   "cell_type": "markdown",
   "id": "d511b350",
   "metadata": {},
   "source": [
    "## Graficando las métricas de Accuracy y Loss"
   ]
  },
  {
   "cell_type": "code",
   "execution_count": 18,
   "id": "9225eaad",
   "metadata": {},
   "outputs": [
    {
     "data": {
      "image/png": "[encoded data removed]",
      "text/plain": [
       "<Figure size 1500x600 with 2 Axes>"
      ]
     },
     "metadata": {},
     "output_type": "display_data"
    }
   ],
   "source": [
    "fig, ax = plt.subplots(1, 2, figsize=(15, 6))\n",
    "ax[0].plot(history_conv.history['loss'], label=\"train\")\n",
    "ax[0].plot(history_conv.history['val_loss'], label=\"val\")\n",
    "ax[0].set_title('model loss')\n",
    "ax[0].set_ylabel('loss')\n",
    "ax[0].set_xlabel('epoch')\n",
    "\n",
    "ax[1].plot(history_conv.history['accuracy'], label=\"train\")\n",
    "ax[1].plot(history_conv.history['val_accuracy'], label=\"val\")\n",
    "ax[1].set_title('model accuracy')\n",
    "ax[1].set_ylabel('accuracy')\n",
    "ax[1].set_xlabel('epoch')\n",
    "plt.legend()\n",
    "plt.show()"
   ]
  },
  {
   "cell_type": "markdown",
   "id": "50e18bcf",
   "metadata": {},
   "source": [
    "Definiendo el orden de los nombres de las clases"
   ]
  },
  {
   "cell_type": "code",
   "execution_count": 19,
   "id": "e35517d7",
   "metadata": {},
   "outputs": [
    {
     "data": {
      "text/plain": [
       "{0: 'George_W_Bush', 1: 'no_George_W_Bush'}"
      ]
     },
     "execution_count": 19,
     "metadata": {},
     "output_type": "execute_result"
    }
   ],
   "source": [
    "from collections import OrderedDict\n",
    "names = []\n",
    "# obteniendo todos los nombres de los archivos de set_test.filenames en una lista\n",
    "for i in range(len(set_test.filenames)):\n",
    "    names.append(set_test.filenames[i])\n",
    "# extrayendo el primer nombre de cada archivo\n",
    "for i in range(len(names)):\n",
    "    names[i] = names[i].split(\"/\")[0]\n",
    "# eliminación de duplicados y se convierte a una lista\n",
    "names = list(OrderedDict.fromkeys(names))\n",
    "values = range(len(names))\n",
    "guia = {value: name for value, name in zip(values, names)}\n",
    "guia"
   ]
  },
  {
   "cell_type": "markdown",
   "id": "5014bdd7",
   "metadata": {},
   "source": [
    "## Realizando las predicciones"
   ]
  },
  {
   "cell_type": "code",
   "execution_count": 20,
   "id": "2136d5b8",
   "metadata": {},
   "outputs": [],
   "source": [
    "# función para predicciones\n",
    "def make_predict(ruta, model, binary):\n",
    "    predictions = []\n",
    "    for i in os.listdir(ruta):\n",
    "        test_image = load_img(ruta + \"/\" + str(i), target_size=(128,128))\n",
    "        test_image = img_to_array(test_image)\n",
    "        # se añade una dimensión mas \n",
    "        test_image = np.expand_dims(test_image, axis=0)\n",
    "    \n",
    "        if binary is True:\n",
    "            result = float(model.predict(test_image, verbose=0)[0][0])\n",
    "        else:\n",
    "            result = np.argmax(model.predict(test_image, verbose=0))\n",
    "        predictions.append(result)\n",
    "    return predictions"
   ]
  },
  {
   "cell_type": "code",
   "execution_count": 21,
   "id": "55181c7b",
   "metadata": {},
   "outputs": [],
   "source": [
    "ruta_test_bush = os.path.join(\"../../../../../data_main/test_bush/\", guia[0])\n",
    "ruta_test_no_bush = os.path.join(\"../../../../../data_main/test_bush/\", guia[1])\n",
    "predicciones_bush = make_predict(ruta_test_bush, model_conv, binary=True)\n",
    "predicciones_no_bush = make_predict(ruta_test_no_bush, model_conv, binary=True)"
   ]
  },
  {
   "cell_type": "code",
   "execution_count": 22,
   "id": "0d58e75a",
   "metadata": {},
   "outputs": [],
   "source": [
    "predicciones_bush_name = [guia[value] if value in guia else 'no_George_W_Bush' for value in predicciones_bush]\n",
    "predicciones_no_bush_name = [guia[value] if value in guia else 'George_W_Bush' for value in predicciones_no_bush]"
   ]
  },
  {
   "cell_type": "code",
   "execution_count": 23,
   "id": "8790b91c",
   "metadata": {},
   "outputs": [
    {
     "data": {
      "text/html": [
       "<div>\n",
       "<style scoped>\n",
       "    .dataframe tbody tr th:only-of-type {\n",
       "        vertical-align: middle;\n",
       "    }\n",
       "\n",
       "    .dataframe tbody tr th {\n",
       "        vertical-align: top;\n",
       "    }\n",
       "\n",
       "    .dataframe thead th {\n",
       "        text-align: right;\n",
       "    }\n",
       "</style>\n",
       "<table border=\"1\" class=\"dataframe\">\n",
       "  <thead>\n",
       "    <tr style=\"text-align: right;\">\n",
       "      <th></th>\n",
       "      <th>Predicciones</th>\n",
       "      <th>Valores_reales</th>\n",
       "    </tr>\n",
       "  </thead>\n",
       "  <tbody>\n",
       "    <tr>\n",
       "      <th>0</th>\n",
       "      <td>George_W_Bush</td>\n",
       "      <td>George_W_Bush</td>\n",
       "    </tr>\n",
       "    <tr>\n",
       "      <th>1</th>\n",
       "      <td>no_George_W_Bush</td>\n",
       "      <td>George_W_Bush</td>\n",
       "    </tr>\n",
       "    <tr>\n",
       "      <th>2</th>\n",
       "      <td>George_W_Bush</td>\n",
       "      <td>George_W_Bush</td>\n",
       "    </tr>\n",
       "    <tr>\n",
       "      <th>3</th>\n",
       "      <td>George_W_Bush</td>\n",
       "      <td>George_W_Bush</td>\n",
       "    </tr>\n",
       "    <tr>\n",
       "      <th>4</th>\n",
       "      <td>George_W_Bush</td>\n",
       "      <td>George_W_Bush</td>\n",
       "    </tr>\n",
       "  </tbody>\n",
       "</table>\n",
       "</div>"
      ],
      "text/plain": [
       "       Predicciones Valores_reales\n",
       "0     George_W_Bush  George_W_Bush\n",
       "1  no_George_W_Bush  George_W_Bush\n",
       "2     George_W_Bush  George_W_Bush\n",
       "3     George_W_Bush  George_W_Bush\n",
       "4     George_W_Bush  George_W_Bush"
      ]
     },
     "execution_count": 23,
     "metadata": {},
     "output_type": "execute_result"
    }
   ],
   "source": [
    "predicciones_total = pd.DataFrame(zip(predicciones_bush_name + predicciones_no_bush_name,\n",
    "                                      ['George_W_Bush']*len(predicciones_bush_name) + \n",
    "                                      ['no_George_W_Bush']*len(predicciones_no_bush_name)),\n",
    "                                      columns=[\"Predicciones\", \"Valores_reales\"])\n",
    "predicciones_total.head()"
   ]
  },
  {
   "cell_type": "markdown",
   "id": "7b4208d5",
   "metadata": {},
   "source": [
    "## Realizando la matriz de confusion"
   ]
  },
  {
   "cell_type": "code",
   "execution_count": 24,
   "id": "6b78a540",
   "metadata": {},
   "outputs": [
    {
     "data": {
      "image/png": "[encoded data removed]",
      "text/plain": [
       "<Figure size 640x480 with 2 Axes>"
      ]
     },
     "metadata": {},
     "output_type": "display_data"
    }
   ],
   "source": [
    "from sklearn.metrics import confusion_matrix, ConfusionMatrixDisplay\n",
    "\n",
    "cm = confusion_matrix(predicciones_total[\"Valores_reales\"], predicciones_total[\"Predicciones\"])\n",
    "dist = ConfusionMatrixDisplay(cm, display_labels=names)\n",
    "dist.plot()\n",
    "plt.show()"
   ]
  },
  {
   "cell_type": "code",
   "execution_count": 25,
   "id": "6fdd5ccc",
   "metadata": {},
   "outputs": [
    {
     "name": "stdout",
     "output_type": "stream",
     "text": [
      "El valor de la pérdida es: 0.018\n",
      "La precisión del modelo es de: 99.4%\n"
     ]
    }
   ],
   "source": [
    "loss, accuracy = model_conv.evaluate(set_test, verbose=0)\n",
    "print(F\"El valor de la pérdida es: {round(loss, 3)}\")\n",
    "print(f\"La precisión del modelo es de: {round(accuracy*100, 1)}%\")"
   ]
  },
  {
   "cell_type": "markdown",
   "id": "717a2323",
   "metadata": {},
   "source": [
    "## Guardando el mejor modelo"
   ]
  },
  {
   "cell_type": "code",
   "execution_count": 26,
   "id": "17bf16c8",
   "metadata": {},
   "outputs": [],
   "source": [
    "# from tensorflow.keras.models import load_model #type:ignore\n",
    "\n",
    "# model_conv.save(\"../../models/model_faces_bin.keras\")"
   ]
  }
 ],
 "metadata": {
  "kernelspec": {
   "display_name": "estudio",
   "language": "python",
   "name": "python3"
  },
  "language_info": {
   "codemirror_mode": {
    "name": "ipython",
    "version": 3
   },
   "file_extension": ".py",
   "mimetype": "text/x-python",
   "name": "python",
   "nbconvert_exporter": "python",
   "pygments_lexer": "ipython3",
   "version": "3.10.18"
  }
 },
 "nbformat": 4,
 "nbformat_minor": 5
}
