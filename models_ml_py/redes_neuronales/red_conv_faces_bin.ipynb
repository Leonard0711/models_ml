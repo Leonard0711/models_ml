{
 "cells": [
  {
   "cell_type": "markdown",
   "id": "fe7d54b2",
   "metadata": {},
   "source": [
    "# Detecting faces:\n",
    "El siguiente notebook ejecuta un algoritmo el cual intenta identificar los rostros de algunas celebridades del dataset 'Labelled Faces in the Wild'."
   ]
  },
  {
   "cell_type": "code",
   "execution_count": 3,
   "id": "219b9bdf",
   "metadata": {},
   "outputs": [],
   "source": [
    "# Funciones generales\n",
    "import os\n",
    "import pandas as pd\n",
    "import numpy as np\n",
    "import seaborn as sns\n",
    "import matplotlib.pyplot as plt\n",
    "\n",
    "# Biblioteca para entrenamiento y validación\n",
    "from sklearn.model_selection import train_test_split\n",
    "\n",
    "# Copia de archivos\n",
    "import shutil\n",
    "\n",
    "# Creación de CNN\n",
    "from tensorflow.keras.models import Sequential #type: ignore\n",
    "from tensorflow.keras.layers import Input, Conv2D, BatchNormalization, Dropout, Flatten, MaxPooling2D, Dense #type: ignore\n",
    "from tensorflow.keras.preprocessing.image import ImageDataGenerator, load_img, img_to_array, array_to_img #type: ignore\n",
    "from tensorflow.keras.callbacks import EarlyStopping, ReduceLROnPlateau #type: ignore"
   ]
  },
  {
   "cell_type": "markdown",
   "id": "1587aad3",
   "metadata": {},
   "source": [
    "## Extrayendo los datos de Kaggle"
   ]
  },
  {
   "cell_type": "code",
   "execution_count": 4,
   "id": "fe99703f",
   "metadata": {},
   "outputs": [
    {
     "data": {
      "text/html": [
       "<div>\n",
       "<style scoped>\n",
       "    .dataframe tbody tr th:only-of-type {\n",
       "        vertical-align: middle;\n",
       "    }\n",
       "\n",
       "    .dataframe tbody tr th {\n",
       "        vertical-align: top;\n",
       "    }\n",
       "\n",
       "    .dataframe thead th {\n",
       "        text-align: right;\n",
       "    }\n",
       "</style>\n",
       "<table border=\"1\" class=\"dataframe\">\n",
       "  <thead>\n",
       "    <tr style=\"text-align: right;\">\n",
       "      <th></th>\n",
       "      <th>name</th>\n",
       "      <th>images</th>\n",
       "    </tr>\n",
       "  </thead>\n",
       "  <tbody>\n",
       "    <tr>\n",
       "      <th>0</th>\n",
       "      <td>AJ_Cook</td>\n",
       "      <td>1</td>\n",
       "    </tr>\n",
       "    <tr>\n",
       "      <th>1</th>\n",
       "      <td>AJ_Lamas</td>\n",
       "      <td>1</td>\n",
       "    </tr>\n",
       "    <tr>\n",
       "      <th>2</th>\n",
       "      <td>Aaron_Eckhart</td>\n",
       "      <td>1</td>\n",
       "    </tr>\n",
       "    <tr>\n",
       "      <th>3</th>\n",
       "      <td>Aaron_Guiel</td>\n",
       "      <td>1</td>\n",
       "    </tr>\n",
       "    <tr>\n",
       "      <th>4</th>\n",
       "      <td>Aaron_Patterson</td>\n",
       "      <td>1</td>\n",
       "    </tr>\n",
       "  </tbody>\n",
       "</table>\n",
       "</div>"
      ],
      "text/plain": [
       "              name  images\n",
       "0          AJ_Cook       1\n",
       "1         AJ_Lamas       1\n",
       "2    Aaron_Eckhart       1\n",
       "3      Aaron_Guiel       1\n",
       "4  Aaron_Patterson       1"
      ]
     },
     "execution_count": 4,
     "metadata": {},
     "output_type": "execute_result"
    }
   ],
   "source": [
    "import kagglehub #type:ignore\n",
    "path_kaggle_dataset = kagglehub.dataset_download('jessicali9530/lfw-dataset')\n",
    "\n",
    "# Ruta al archivo CSV\n",
    "csv_path = os.path.join(path_kaggle_dataset, 'lfw_allnames.csv')\n",
    "df_faces_dataset = pd.read_csv(csv_path)\n",
    "df_faces_dataset.head()"
   ]
  },
  {
   "cell_type": "markdown",
   "id": "195f1a8c",
   "metadata": {},
   "source": [
    "## Creando las rutas de cada imagen"
   ]
  },
  {
   "cell_type": "code",
   "execution_count": 5,
   "id": "90cbfa45",
   "metadata": {},
   "outputs": [
    {
     "data": {
      "text/html": [
       "<div>\n",
       "<style scoped>\n",
       "    .dataframe tbody tr th:only-of-type {\n",
       "        vertical-align: middle;\n",
       "    }\n",
       "\n",
       "    .dataframe tbody tr th {\n",
       "        vertical-align: top;\n",
       "    }\n",
       "\n",
       "    .dataframe thead th {\n",
       "        text-align: right;\n",
       "    }\n",
       "</style>\n",
       "<table border=\"1\" class=\"dataframe\">\n",
       "  <thead>\n",
       "    <tr style=\"text-align: right;\">\n",
       "      <th></th>\n",
       "      <th>name</th>\n",
       "      <th>path_img</th>\n",
       "    </tr>\n",
       "  </thead>\n",
       "  <tbody>\n",
       "    <tr>\n",
       "      <th>0</th>\n",
       "      <td>AJ_Cook</td>\n",
       "      <td>AJ_Cook/AJ_Cook_0001.jpg</td>\n",
       "    </tr>\n",
       "    <tr>\n",
       "      <th>1</th>\n",
       "      <td>AJ_Lamas</td>\n",
       "      <td>AJ_Lamas/AJ_Lamas_0001.jpg</td>\n",
       "    </tr>\n",
       "    <tr>\n",
       "      <th>2</th>\n",
       "      <td>Aaron_Eckhart</td>\n",
       "      <td>Aaron_Eckhart/Aaron_Eckhart_0001.jpg</td>\n",
       "    </tr>\n",
       "    <tr>\n",
       "      <th>3</th>\n",
       "      <td>Aaron_Guiel</td>\n",
       "      <td>Aaron_Guiel/Aaron_Guiel_0001.jpg</td>\n",
       "    </tr>\n",
       "    <tr>\n",
       "      <th>4</th>\n",
       "      <td>Aaron_Patterson</td>\n",
       "      <td>Aaron_Patterson/Aaron_Patterson_0001.jpg</td>\n",
       "    </tr>\n",
       "  </tbody>\n",
       "</table>\n",
       "</div>"
      ],
      "text/plain": [
       "              name                                  path_img\n",
       "0          AJ_Cook                  AJ_Cook/AJ_Cook_0001.jpg\n",
       "1         AJ_Lamas                AJ_Lamas/AJ_Lamas_0001.jpg\n",
       "2    Aaron_Eckhart      Aaron_Eckhart/Aaron_Eckhart_0001.jpg\n",
       "3      Aaron_Guiel          Aaron_Guiel/Aaron_Guiel_0001.jpg\n",
       "4  Aaron_Patterson  Aaron_Patterson/Aaron_Patterson_0001.jpg"
      ]
     },
     "execution_count": 5,
     "metadata": {},
     "output_type": "execute_result"
    }
   ],
   "source": [
    "# repite cada fila de acuerdo a la cantidad de imagenes que almacena\n",
    "df_images_paths = df_faces_dataset.loc[df_faces_dataset.index.repeat(df_faces_dataset[\"images\"])]\n",
    "# suma acumulada de cada imagen que almacena\n",
    "df_images_paths[\"path_img\"] = df_images_paths.groupby(\"name\").cumcount() + 1\n",
    "# cantidad de imagen que alamcena de completa con 0 hasta 4 cifras\n",
    "df_images_paths[\"path_img\"] = df_images_paths.path_img.apply(lambda x: f\"{x:04}\")\n",
    "# formato de la ruta de cada imagen\n",
    "df_images_paths[\"path_img\"] = df_images_paths.name + \"/\" + df_images_paths.name + \"_\" + df_images_paths.path_img + \".jpg\"\n",
    "df_images_paths = df_images_paths.drop(\"images\", axis=1)\n",
    "df_images_paths.head()"
   ]
  },
  {
   "cell_type": "code",
   "execution_count": 6,
   "id": "79f48dad",
   "metadata": {},
   "outputs": [
    {
     "name": "stdout",
     "output_type": "stream",
     "text": [
      "        Height   Widths\n",
      "count  13233.0  13233.0\n",
      "mean     128.0    128.0\n",
      "std        0.0      0.0\n",
      "min      128.0    128.0\n",
      "25%      128.0    128.0\n",
      "50%      128.0    128.0\n",
      "75%      128.0    128.0\n",
      "max      128.0    128.0\n"
     ]
    }
   ],
   "source": [
    "# verificando la resolucion de las imágenes\n",
    "widths = []\n",
    "heights = []\n",
    "\n",
    "rutas = df_images_paths[\"path_img\"]\n",
    "for file in rutas:\n",
    "    # ruta de cada imagen en kaggle\n",
    "    path_img = os.path.join(path_kaggle_dataset, \"lfw-deepfunneled/lfw-deepfunneled\", str(file))\n",
    "    imagen = load_img(path_img, target_size=(128,128))\n",
    "    widths.append(imagen.width)\n",
    "    heights.append(imagen.height)\n",
    "\n",
    "dimensiones = pd.DataFrame({\"Height\": heights, \"Widths\": widths})\n",
    "print(dimensiones.describe())"
   ]
  },
  {
   "cell_type": "code",
   "execution_count": 7,
   "id": "a9654418",
   "metadata": {},
   "outputs": [
    {
     "name": "stdout",
     "output_type": "stream",
     "text": [
      "                name  count\n",
      "0      George_W_Bush    530\n",
      "1       Colin_Powell    236\n",
      "2         Tony_Blair    144\n",
      "3    Donald_Rumsfeld    121\n",
      "4  Gerhard_Schroeder    109\n",
      "5       Ariel_Sharon     77\n"
     ]
    },
    {
     "data": {
      "image/png": "[encoded data removed]",
      "text/plain": [
       "<Figure size 640x480 with 1 Axes>"
      ]
     },
     "metadata": {},
     "output_type": "display_data"
    }
   ],
   "source": [
    "# distribución de la cantidad imagenes por cada personaje\n",
    "names_top = df_images_paths.name.value_counts().sort_values(ascending=False).reset_index().iloc[:6,]\n",
    "print(names_top)\n",
    "sns.barplot(data=names_top, x=\"name\", y=\"count\")\n",
    "plt.xticks(rotation=45)\n",
    "plt.title(\"Personajes con mas presencia\", size=17)\n",
    "plt.show()"
   ]
  },
  {
   "cell_type": "markdown",
   "id": "54ff7177",
   "metadata": {},
   "source": [
    "Para este proyecto se tomará la predicción del personaje George W. Bush ya que cuenta con\n",
    "una mayor cantidad de imágenes"
   ]
  },
  {
   "cell_type": "code",
   "execution_count": 8,
   "id": "69f800ca",
   "metadata": {},
   "outputs": [],
   "source": [
    "# Separando los datos que pertenecen al personaje seleccionado\n",
    "bush_data = df_images_paths.loc[df_images_paths[\"name\"]==\"George_W_Bush\"]\n",
    "bush_data.reset_index(drop=True, inplace=True)"
   ]
  },
  {
   "cell_type": "code",
   "execution_count": 9,
   "id": "f29ca789",
   "metadata": {},
   "outputs": [],
   "source": [
    "# Seleccionamos de las imágenes que no pertenecen al personaje seleccionado\n",
    "# una cantidad igual de imágenes\n",
    "no_bush_data = df_images_paths.loc[df_images_paths[\"name\"]!=\"George_W_Bush\"]\n",
    "no_bush_data.reset_index(drop=True, inplace=True)\n",
    "no_bush_data.loc[:, \"name\"] = \"no_George_W_Bush\""
   ]
  },
  {
   "cell_type": "code",
   "execution_count": 10,
   "id": "97357c02",
   "metadata": {},
   "outputs": [
    {
     "data": {
      "text/plain": [
       "name\n",
       "no_George_W_Bush    12703\n",
       "George_W_Bush         530\n",
       "Name: count, dtype: int64"
      ]
     },
     "execution_count": 10,
     "metadata": {},
     "output_type": "execute_result"
    }
   ],
   "source": [
    "# Uniendo los datos seleccionados\n",
    "rutas_imagenes = pd.concat([bush_data, no_bush_data], axis=0)\n",
    "rutas_imagenes.name.value_counts()"
   ]
  },
  {
   "cell_type": "code",
   "execution_count": 11,
   "id": "61623038",
   "metadata": {},
   "outputs": [],
   "source": [
    "# Separando los directorios de los datos de entrenamiento y validación\n",
    "bush_train, bush_test = train_test_split(rutas_imagenes,\n",
    "                                         test_size=0.2,\n",
    "                                         stratify=rutas_imagenes[\"name\"],\n",
    "                                         shuffle=True,\n",
    "                                         random_state=42)"
   ]
  },
  {
   "cell_type": "markdown",
   "id": "0031e311",
   "metadata": {},
   "source": [
    "## Estableciendo las funciones de uso"
   ]
  },
  {
   "cell_type": "markdown",
   "id": "17eaf34d",
   "metadata": {},
   "source": [
    "Creando los directorios para mover las imágenes"
   ]
  },
  {
   "cell_type": "code",
   "execution_count": 12,
   "id": "dcb274b5",
   "metadata": {},
   "outputs": [
    {
     "name": "stdout",
     "output_type": "stream",
     "text": [
      "Se movieron 10586 imágenes a carpeta train_bush/\n",
      "Se movieron 2647 imágenes a carpeta test_bush/\n"
     ]
    }
   ],
   "source": [
    "import shutil\n",
    "\n",
    "def make_directory_1(ruta, data):\n",
    "    cont = 0\n",
    "\n",
    "    for i in data[\"path_img\"]:\n",
    "        if not os.path.exists(os.path.join(\"../../../../../data_main/\", ruta)):\n",
    "            os.mkdir(os.path.join(\"../../../../../data_main/\", ruta))\n",
    "\n",
    "        name_file = data.loc[data[\"path_img\"]==i][\"name\"]\n",
    "        name_file = str(list(name_file)[0])\n",
    "\n",
    "        if not os.path.exists(os.path.join(\"../../../../../data_main/\", ruta, name_file)):\n",
    "            os.mkdir(os.path.join(\"../../../../../data_main/\", ruta, name_file))\n",
    "\n",
    "        data_from = os.path.join(path_kaggle_dataset, \"lfw-deepfunneled/lfw-deepfunneled\", i)\n",
    "        data_to = os.path.join(\"../../../../../data_main/\", ruta, name_file)\n",
    "        shutil.copy(data_from, data_to)\n",
    "        cont += 1\n",
    "\n",
    "    print(f\"Se movieron {cont} imágenes a carpeta {ruta}\")\n",
    "\n",
    "make_directory_1('train_bush/', bush_train)\n",
    "make_directory_1('test_bush/', bush_test)"
   ]
  },
  {
   "cell_type": "markdown",
   "id": "2e45b46c",
   "metadata": {},
   "source": [
    "## Implementación de la red neuronal convolucional"
   ]
  },
  {
   "cell_type": "code",
   "execution_count": 13,
   "id": "29a0a751",
   "metadata": {},
   "outputs": [],
   "source": [
    "# Estableciendo los callbacks con el cual se optimiza el modelo\n",
    "early_stopping = EarlyStopping(\n",
    "    monitor=\"val_accuracy\",\n",
    "    min_delta=0.00005,\n",
    "    patience=5,\n",
    "    verbose=1,\n",
    "    restore_best_weights=True\n",
    ")\n",
    "\n",
    "lr_scheduler = ReduceLROnPlateau(\n",
    "    monitor=\"val_accuracy\",\n",
    "    factor=0.5,\n",
    "    patience=5,\n",
    "    min_lr=1e-7,\n",
    "    verbose=1\n",
    ")\n",
    "\n",
    "callbacks = [early_stopping, lr_scheduler]"
   ]
  },
  {
   "cell_type": "code",
   "execution_count": 15,
   "id": "78d3ed9c",
   "metadata": {},
   "outputs": [
    {
     "data": {
      "text/plain": [
       "(250, 250, 3)"
      ]
     },
     "execution_count": 15,
     "metadata": {},
     "output_type": "execute_result"
    }
   ],
   "source": [
    "imagen_de_muestra = os.path.join(\"../../../../../data_main/\", \"train_bush\", \"George_W_Bush\", \"George_W_Bush_0001.jpg\")\n",
    "imagen = load_img(imagen_de_muestra)\n",
    "imagen_array = img_to_array(imagen)\n",
    "imagen_array.shape"
   ]
  },
  {
   "cell_type": "code",
   "execution_count": 16,
   "id": "f8ebe7bf",
   "metadata": {},
   "outputs": [
    {
     "name": "stderr",
     "output_type": "stream",
     "text": [
      "I0000 00:00:1756208220.250771   19081 gpu_device.cc:2019] Created device /job:localhost/replica:0/task:0/device:GPU:0 with 1767 MB memory:  -> device: 0, name: NVIDIA GeForce RTX 3050 Laptop GPU, pci bus id: 0000:01:00.0, compute capability: 8.6\n"
     ]
    }
   ],
   "source": [
    "model_conv = Sequential()\n",
    "model_conv.add(Input((128,128,3)))\n",
    "model_conv.add(Conv2D(32, kernel_size=(3,3), activation=\"relu\"))\n",
    "model_conv.add(MaxPooling2D(pool_size=(2,2)))\n",
    "model_conv.add(Dropout(0.5))\n",
    "\n",
    "model_conv.add(Conv2D(64, kernel_size=(3,3), activation=\"relu\"))\n",
    "model_conv.add(MaxPooling2D(pool_size=(2,2)))\n",
    "\n",
    "model_conv.add(Conv2D(128, kernel_size=(3,3), activation=\"relu\"))\n",
    "model_conv.add(MaxPooling2D(pool_size=(2,2)))\n",
    "\n",
    "model_conv.add(Flatten())\n",
    "model_conv.add(Dense(256, activation=\"relu\"))\n",
    "model_conv.add(Dropout(0.5))\n",
    "model_conv.add(Dense(1, activation=\"sigmoid\"))"
   ]
  },
  {
   "cell_type": "markdown",
   "id": "5cc393aa",
   "metadata": {},
   "source": [
    "Compilando el modelo"
   ]
  },
  {
   "cell_type": "code",
   "execution_count": 17,
   "id": "ca7a6238",
   "metadata": {},
   "outputs": [],
   "source": [
    "model_conv.compile(\n",
    "    optimizer=\"adam\",\n",
    "    loss=\"binary_crossentropy\",\n",
    "    metrics=[\"accuracy\"]\n",
    ")"
   ]
  },
  {
   "cell_type": "code",
   "execution_count": 18,
   "id": "0f100b33",
   "metadata": {},
   "outputs": [
    {
     "name": "stdout",
     "output_type": "stream",
     "text": [
      "Found 10586 images belonging to 2 classes.\n",
      "Found 2647 images belonging to 2 classes.\n"
     ]
    }
   ],
   "source": [
    "train_datagen = ImageDataGenerator(rescale=1/255,\n",
    "                                   shear_range=0.2,\n",
    "                                   zoom_range=0.2,\n",
    "                                   horizontal_flip=True)\n",
    "\n",
    "test_datagen = ImageDataGenerator(rescale=1/255)\n",
    "\n",
    "set_train = train_datagen.flow_from_directory(\"../../../../../data_main/train_bush/\",\n",
    "                                                       target_size=(128,128),\n",
    "                                                       #Agrupa las imágenes en lotes (batch_size=32), lo que significa que ya tienen una dimensión extra: (32, 128, 128, 3).\n",
    "                                                       batch_size=32,\n",
    "                                                       class_mode=\"binary\")\n",
    "set_test = test_datagen.flow_from_directory(\"../../../../../data_main/test_bush/\",\n",
    "                                                  target_size=(128,128),\n",
    "                                                  batch_size=15,\n",
    "                                                  class_mode=\"binary\")"
   ]
  },
  {
   "cell_type": "code",
   "execution_count": 19,
   "id": "816b4ef9",
   "metadata": {},
   "outputs": [
    {
     "name": "stdout",
     "output_type": "stream",
     "text": [
      "Epoch 1/18\n"
     ]
    },
    {
     "name": "stderr",
     "output_type": "stream",
     "text": [
      "/home/leonardope/mambaforge/envs/estudio/lib/python3.10/site-packages/keras/src/trainers/data_adapters/py_dataset_adapter.py:121: UserWarning: Your `PyDataset` class should call `super().__init__(**kwargs)` in its constructor. `**kwargs` can include `workers`, `use_multiprocessing`, `max_queue_size`. Do not pass these arguments to `fit()`, as they will be ignored.\n",
      "  self._warn_if_super_not_called()\n",
      "WARNING: All log messages before absl::InitializeLog() is called are written to STDERR\n",
      "I0000 00:00:1756208256.715402   20276 service.cc:152] XLA service 0x7375ac00b8a0 initialized for platform CUDA (this does not guarantee that XLA will be used). Devices:\n",
      "I0000 00:00:1756208256.715446   20276 service.cc:160]   StreamExecutor device (0): NVIDIA GeForce RTX 3050 Laptop GPU, Compute Capability 8.6\n",
      "2025-08-26 06:37:36.760820: I tensorflow/compiler/mlir/tensorflow/utils/dump_mlir_util.cc:269] disabling MLIR crash reproducer, set env var `MLIR_CRASH_REPRODUCER_DIRECTORY` to enable.\n",
      "I0000 00:00:1756208256.998532   20276 cuda_dnn.cc:529] Loaded cuDNN version 90501\n"
     ]
    },
    {
     "name": "stdout",
     "output_type": "stream",
     "text": [
      "\u001b[1m  3/331\u001b[0m \u001b[37m━━━━━━━━━━━━━━━━━━━━\u001b[0m \u001b[1m14s\u001b[0m 45ms/step - accuracy: 0.5642 - loss: 0.6961"
     ]
    },
    {
     "name": "stderr",
     "output_type": "stream",
     "text": [
      "I0000 00:00:1756208261.044844   20276 device_compiler.h:188] Compiled cluster using XLA!  This line is logged at most once for the lifetime of the process.\n"
     ]
    },
    {
     "name": "stdout",
     "output_type": "stream",
     "text": [
      "\u001b[1m331/331\u001b[0m \u001b[32m━━━━━━━━━━━━━━━━━━━━\u001b[0m\u001b[37m\u001b[0m \u001b[1m39s\u001b[0m 101ms/step - accuracy: 0.9580 - loss: 0.1873 - val_accuracy: 0.9600 - val_loss: 0.1647 - learning_rate: 0.0010\n",
      "Epoch 2/18\n",
      "\u001b[1m331/331\u001b[0m \u001b[32m━━━━━━━━━━━━━━━━━━━━\u001b[0m\u001b[37m\u001b[0m \u001b[1m24s\u001b[0m 73ms/step - accuracy: 0.9599 - loss: 0.1615 - val_accuracy: 0.9600 - val_loss: 0.1422 - learning_rate: 0.0010\n",
      "Epoch 3/18\n",
      "\u001b[1m331/331\u001b[0m \u001b[32m━━━━━━━━━━━━━━━━━━━━\u001b[0m\u001b[37m\u001b[0m \u001b[1m27s\u001b[0m 81ms/step - accuracy: 0.9599 - loss: 0.1399 - val_accuracy: 0.9600 - val_loss: 0.1246 - learning_rate: 0.0010\n",
      "Epoch 4/18\n",
      "\u001b[1m331/331\u001b[0m \u001b[32m━━━━━━━━━━━━━━━━━━━━\u001b[0m\u001b[37m\u001b[0m \u001b[1m27s\u001b[0m 81ms/step - accuracy: 0.9603 - loss: 0.1242 - val_accuracy: 0.9603 - val_loss: 0.0996 - learning_rate: 0.0010\n",
      "Epoch 5/18\n",
      "\u001b[1m331/331\u001b[0m \u001b[32m━━━━━━━━━━━━━━━━━━━━\u001b[0m\u001b[37m\u001b[0m \u001b[1m27s\u001b[0m 81ms/step - accuracy: 0.9620 - loss: 0.1060 - val_accuracy: 0.9675 - val_loss: 0.0842 - learning_rate: 0.0010\n",
      "Epoch 6/18\n",
      "\u001b[1m331/331\u001b[0m \u001b[32m━━━━━━━━━━━━━━━━━━━━\u001b[0m\u001b[37m\u001b[0m \u001b[1m23s\u001b[0m 69ms/step - accuracy: 0.9644 - loss: 0.1073 - val_accuracy: 0.9709 - val_loss: 0.0719 - learning_rate: 0.0010\n",
      "Epoch 7/18\n",
      "\u001b[1m331/331\u001b[0m \u001b[32m━━━━━━━━━━━━━━━━━━━━\u001b[0m\u001b[37m\u001b[0m \u001b[1m26s\u001b[0m 78ms/step - accuracy: 0.9669 - loss: 0.0886 - val_accuracy: 0.9736 - val_loss: 0.0654 - learning_rate: 0.0010\n",
      "Epoch 8/18\n",
      "\u001b[1m331/331\u001b[0m \u001b[32m━━━━━━━━━━━━━━━━━━━━\u001b[0m\u001b[37m\u001b[0m \u001b[1m26s\u001b[0m 80ms/step - accuracy: 0.9716 - loss: 0.0825 - val_accuracy: 0.9770 - val_loss: 0.0713 - learning_rate: 0.0010\n",
      "Epoch 9/18\n",
      "\u001b[1m331/331\u001b[0m \u001b[32m━━━━━━━━━━━━━━━━━━━━\u001b[0m\u001b[37m\u001b[0m \u001b[1m26s\u001b[0m 78ms/step - accuracy: 0.9703 - loss: 0.0748 - val_accuracy: 0.9785 - val_loss: 0.0644 - learning_rate: 0.0010\n",
      "Epoch 10/18\n",
      "\u001b[1m331/331\u001b[0m \u001b[32m━━━━━━━━━━━━━━━━━━━━\u001b[0m\u001b[37m\u001b[0m \u001b[1m23s\u001b[0m 69ms/step - accuracy: 0.9746 - loss: 0.0704 - val_accuracy: 0.9856 - val_loss: 0.0476 - learning_rate: 0.0010\n",
      "Epoch 11/18\n",
      "\u001b[1m331/331\u001b[0m \u001b[32m━━━━━━━━━━━━━━━━━━━━\u001b[0m\u001b[37m\u001b[0m \u001b[1m25s\u001b[0m 77ms/step - accuracy: 0.9774 - loss: 0.0659 - val_accuracy: 0.9811 - val_loss: 0.0473 - learning_rate: 0.0010\n",
      "Epoch 12/18\n",
      "\u001b[1m331/331\u001b[0m \u001b[32m━━━━━━━━━━━━━━━━━━━━\u001b[0m\u001b[37m\u001b[0m \u001b[1m26s\u001b[0m 77ms/step - accuracy: 0.9797 - loss: 0.0595 - val_accuracy: 0.9834 - val_loss: 0.0444 - learning_rate: 0.0010\n",
      "Epoch 13/18\n",
      "\u001b[1m331/331\u001b[0m \u001b[32m━━━━━━━━━━━━━━━━━━━━\u001b[0m\u001b[37m\u001b[0m \u001b[1m23s\u001b[0m 68ms/step - accuracy: 0.9806 - loss: 0.0554 - val_accuracy: 0.9864 - val_loss: 0.0393 - learning_rate: 0.0010\n",
      "Epoch 14/18\n",
      "\u001b[1m331/331\u001b[0m \u001b[32m━━━━━━━━━━━━━━━━━━━━\u001b[0m\u001b[37m\u001b[0m \u001b[1m25s\u001b[0m 76ms/step - accuracy: 0.9817 - loss: 0.0518 - val_accuracy: 0.9909 - val_loss: 0.0289 - learning_rate: 0.0010\n",
      "Epoch 15/18\n",
      "\u001b[1m331/331\u001b[0m \u001b[32m━━━━━━━━━━━━━━━━━━━━\u001b[0m\u001b[37m\u001b[0m \u001b[1m26s\u001b[0m 78ms/step - accuracy: 0.9827 - loss: 0.0506 - val_accuracy: 0.9879 - val_loss: 0.0350 - learning_rate: 0.0010\n",
      "Epoch 16/18\n",
      "\u001b[1m331/331\u001b[0m \u001b[32m━━━━━━━━━━━━━━━━━━━━\u001b[0m\u001b[37m\u001b[0m \u001b[1m22s\u001b[0m 67ms/step - accuracy: 0.9858 - loss: 0.0408 - val_accuracy: 0.9932 - val_loss: 0.0248 - learning_rate: 0.0010\n",
      "Epoch 17/18\n",
      "\u001b[1m331/331\u001b[0m \u001b[32m━━━━━━━━━━━━━━━━━━━━\u001b[0m\u001b[37m\u001b[0m \u001b[1m27s\u001b[0m 82ms/step - accuracy: 0.9851 - loss: 0.0446 - val_accuracy: 0.9909 - val_loss: 0.0287 - learning_rate: 0.0010\n",
      "Epoch 18/18\n",
      "\u001b[1m331/331\u001b[0m \u001b[32m━━━━━━━━━━━━━━━━━━━━\u001b[0m\u001b[37m\u001b[0m \u001b[1m26s\u001b[0m 78ms/step - accuracy: 0.9872 - loss: 0.0399 - val_accuracy: 0.9758 - val_loss: 0.0655 - learning_rate: 0.0010\n",
      "Restoring model weights from the end of the best epoch: 16.\n"
     ]
    }
   ],
   "source": [
    "history_conv = model_conv.fit(set_train,\n",
    "                              epochs=18,\n",
    "                              validation_data=set_test,\n",
    "                              callbacks=callbacks)"
   ]
  },
  {
   "cell_type": "markdown",
   "id": "d511b350",
   "metadata": {},
   "source": [
    "## Graficando las métricas de Accuracy y Loss"
   ]
  },
  {
   "cell_type": "code",
   "execution_count": 20,
   "id": "2f2bef25",
   "metadata": {},
   "outputs": [
    {
     "data": {
      "image/png": "[encoded data removed]",
      "text/plain": [
       "<Figure size 640x480 with 1 Axes>"
      ]
     },
     "metadata": {},
     "output_type": "display_data"
    }
   ],
   "source": [
    "# Graficando las métricas de Accuracy y Loss\n",
    "plt.plot(history_conv.history['accuracy'])\n",
    "plt.plot(history_conv.history['val_accuracy'])\n",
    "plt.title('model accuracy')\n",
    "plt.ylabel('accuracy')\n",
    "plt.xlabel('epoch')\n",
    "plt.legend(['train', 'val'], loc='upper left')\n",
    "plt.show()"
   ]
  },
  {
   "cell_type": "code",
   "execution_count": 21,
   "id": "922fa989",
   "metadata": {},
   "outputs": [
    {
     "data": {
      "image/png": "[encoded data removed]",
      "text/plain": [
       "<Figure size 640x480 with 1 Axes>"
      ]
     },
     "metadata": {},
     "output_type": "display_data"
    }
   ],
   "source": [
    "plt.plot(history_conv.history[\"loss\"])\n",
    "plt.plot(history_conv.history[\"val_loss\"])\n",
    "plt.title(\"model_loss\")\n",
    "plt.ylabel(\"loss\")\n",
    "plt.xlabel(\"epoch\")\n",
    "plt.legend([\"train\", \"val\"], loc=\"upper left\")\n",
    "plt.show()"
   ]
  },
  {
   "cell_type": "markdown",
   "id": "50e18bcf",
   "metadata": {},
   "source": [
    "Definiendo el orden de los nombres de las clases"
   ]
  },
  {
   "cell_type": "code",
   "execution_count": 22,
   "id": "e35517d7",
   "metadata": {},
   "outputs": [
    {
     "data": {
      "text/plain": [
       "{0: 'George_W_Bush', 1: 'no_George_W_Bush'}"
      ]
     },
     "execution_count": 22,
     "metadata": {},
     "output_type": "execute_result"
    }
   ],
   "source": [
    "from collections import OrderedDict\n",
    "names = []\n",
    "# obteniendo todos los nombres de los archivos de set_test.filenames en una lista\n",
    "for i in range(len(set_test.filenames)):\n",
    "    names.append(set_test.filenames[i])\n",
    "# extrayendo el primer nombre de cada archivo\n",
    "for i in range(len(names)):\n",
    "    names[i] = names[i].split(\"/\")[0]\n",
    "# eliminación de duplicados y se convierte a una lista\n",
    "names = list(OrderedDict.fromkeys(names))\n",
    "values = range(len(names))\n",
    "guia = {value: name for value, name in zip(values, names)}\n",
    "guia"
   ]
  },
  {
   "cell_type": "markdown",
   "id": "5014bdd7",
   "metadata": {},
   "source": [
    "## Realizando las predicciones"
   ]
  },
  {
   "cell_type": "code",
   "execution_count": 23,
   "id": "2136d5b8",
   "metadata": {},
   "outputs": [],
   "source": [
    "# función para predicciones\n",
    "def make_predict(ruta, model, binary):\n",
    "    predictions = []\n",
    "    for i in os.listdir(ruta):\n",
    "        test_image = load_img(ruta + \"/\" + str(i), target_size=(128,128))\n",
    "        test_image = img_to_array(test_image)\n",
    "        # se añade una dimensión mas \n",
    "        test_image = np.expand_dims(test_image, axis=0)\n",
    "    \n",
    "        if binary is True:\n",
    "            result = float(model.predict(test_image, verbose=0)[0][0])\n",
    "        else:\n",
    "            result = np.argmax(model.predict(test_image, verbose=0))\n",
    "        predictions.append(result)\n",
    "    return predictions"
   ]
  },
  {
   "cell_type": "code",
   "execution_count": 24,
   "id": "55181c7b",
   "metadata": {},
   "outputs": [],
   "source": [
    "ruta_test_bush = os.path.join(\"../../../../../data_main/test_bush/\", guia[0])\n",
    "ruta_test_no_bush = os.path.join(\"../../../../../data_main/test_bush/\", guia[1])\n",
    "predicciones_bush = make_predict(ruta_test_bush, model_conv, binary=True)\n",
    "predicciones_no_bush = make_predict(ruta_test_no_bush, model_conv, binary=True)"
   ]
  },
  {
   "cell_type": "code",
   "execution_count": 25,
   "id": "0d58e75a",
   "metadata": {},
   "outputs": [],
   "source": [
    "predicciones_bush_name = [guia[value] if value in guia else 'no_George_W_Bush' for value in predicciones_bush]\n",
    "predicciones_no_bush_name = [guia[value] if value in guia else 'George_W_Bush' for value in predicciones_no_bush]"
   ]
  },
  {
   "cell_type": "code",
   "execution_count": 26,
   "id": "8790b91c",
   "metadata": {},
   "outputs": [
    {
     "data": {
      "text/html": [
       "<div>\n",
       "<style scoped>\n",
       "    .dataframe tbody tr th:only-of-type {\n",
       "        vertical-align: middle;\n",
       "    }\n",
       "\n",
       "    .dataframe tbody tr th {\n",
       "        vertical-align: top;\n",
       "    }\n",
       "\n",
       "    .dataframe thead th {\n",
       "        text-align: right;\n",
       "    }\n",
       "</style>\n",
       "<table border=\"1\" class=\"dataframe\">\n",
       "  <thead>\n",
       "    <tr style=\"text-align: right;\">\n",
       "      <th></th>\n",
       "      <th>Predicciones</th>\n",
       "      <th>Valores_reales</th>\n",
       "    </tr>\n",
       "  </thead>\n",
       "  <tbody>\n",
       "    <tr>\n",
       "      <th>0</th>\n",
       "      <td>George_W_Bush</td>\n",
       "      <td>George_W_Bush</td>\n",
       "    </tr>\n",
       "    <tr>\n",
       "      <th>1</th>\n",
       "      <td>George_W_Bush</td>\n",
       "      <td>George_W_Bush</td>\n",
       "    </tr>\n",
       "    <tr>\n",
       "      <th>2</th>\n",
       "      <td>George_W_Bush</td>\n",
       "      <td>George_W_Bush</td>\n",
       "    </tr>\n",
       "    <tr>\n",
       "      <th>3</th>\n",
       "      <td>George_W_Bush</td>\n",
       "      <td>George_W_Bush</td>\n",
       "    </tr>\n",
       "    <tr>\n",
       "      <th>4</th>\n",
       "      <td>George_W_Bush</td>\n",
       "      <td>George_W_Bush</td>\n",
       "    </tr>\n",
       "  </tbody>\n",
       "</table>\n",
       "</div>"
      ],
      "text/plain": [
       "    Predicciones Valores_reales\n",
       "0  George_W_Bush  George_W_Bush\n",
       "1  George_W_Bush  George_W_Bush\n",
       "2  George_W_Bush  George_W_Bush\n",
       "3  George_W_Bush  George_W_Bush\n",
       "4  George_W_Bush  George_W_Bush"
      ]
     },
     "execution_count": 26,
     "metadata": {},
     "output_type": "execute_result"
    }
   ],
   "source": [
    "predicciones_total = pd.DataFrame(zip(predicciones_bush_name + predicciones_no_bush_name,\n",
    "                                      ['George_W_Bush']*len(predicciones_bush_name) + \n",
    "                                      ['no_George_W_Bush']*len(predicciones_no_bush_name)),\n",
    "                                      columns=[\"Predicciones\", \"Valores_reales\"])\n",
    "predicciones_total.head()"
   ]
  },
  {
   "cell_type": "markdown",
   "id": "7b4208d5",
   "metadata": {},
   "source": [
    "## Realizando la matriz de confusion"
   ]
  },
  {
   "cell_type": "code",
   "execution_count": 27,
   "id": "6b78a540",
   "metadata": {},
   "outputs": [
    {
     "data": {
      "image/png": "[encoded data removed]",
      "text/plain": [
       "<Figure size 640x480 with 2 Axes>"
      ]
     },
     "metadata": {},
     "output_type": "display_data"
    }
   ],
   "source": [
    "from sklearn.metrics import confusion_matrix, ConfusionMatrixDisplay\n",
    "\n",
    "cm = confusion_matrix(predicciones_total[\"Valores_reales\"], predicciones_total[\"Predicciones\"])\n",
    "dist = ConfusionMatrixDisplay(cm, display_labels=names)\n",
    "dist.plot()\n",
    "plt.show()"
   ]
  },
  {
   "cell_type": "code",
   "execution_count": 28,
   "id": "6fdd5ccc",
   "metadata": {},
   "outputs": [
    {
     "data": {
      "text/plain": [
       "[0.024792658165097237, 0.9931998252868652]"
      ]
     },
     "execution_count": 28,
     "metadata": {},
     "output_type": "execute_result"
    }
   ],
   "source": [
    "evaluacion_test = model_conv.evaluate(set_test, verbose=0)\n",
    "evaluacion_test"
   ]
  },
  {
   "cell_type": "markdown",
   "id": "717a2323",
   "metadata": {},
   "source": [
    "## Guardando el mejor modelo"
   ]
  },
  {
   "cell_type": "code",
   "execution_count": null,
   "id": "17bf16c8",
   "metadata": {},
   "outputs": [],
   "source": [
    "# from tensorflow.keras.models import load_model #type:ignore\n",
    "\n",
    "# model_conv.save(\"../../models/model_faces_bin.keras\")"
   ]
  }
 ],
 "metadata": {
  "kernelspec": {
   "display_name": "estudio",
   "language": "python",
   "name": "python3"
  },
  "language_info": {
   "codemirror_mode": {
    "name": "ipython",
    "version": 3
   },
   "file_extension": ".py",
   "mimetype": "text/x-python",
   "name": "python",
   "nbconvert_exporter": "python",
   "pygments_lexer": "ipython3",
   "version": "3.10.18"
  }
 },
 "nbformat": 4,
 "nbformat_minor": 5
}
